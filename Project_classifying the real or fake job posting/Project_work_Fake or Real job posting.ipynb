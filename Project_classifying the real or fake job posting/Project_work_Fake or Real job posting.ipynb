{
 "cells": [
  {
   "cell_type": "markdown",
   "metadata": {},
   "source": [
    "## Project-Classify Real or Fake JobPosting\n",
    "The project is to predict whether the job posting is a real or fake posting using clasifier(logistic regression,naive baye).\n",
    "This project helps from preventing the fraudness from cheaters about job posting."
   ]
  },
  {
   "cell_type": "markdown",
   "metadata": {},
   "source": [
    "### import the libaries"
   ]
  },
  {
   "cell_type": "code",
   "execution_count": 1,
   "metadata": {},
   "outputs": [],
   "source": [
    "import numpy as np\n",
    "import pandas as pd\n",
    "import matplotlib.pyplot as plt"
   ]
  },
  {
   "cell_type": "code",
   "execution_count": 2,
   "metadata": {},
   "outputs": [
    {
     "data": {
      "text/html": [
       "<div>\n",
       "<style scoped>\n",
       "    .dataframe tbody tr th:only-of-type {\n",
       "        vertical-align: middle;\n",
       "    }\n",
       "\n",
       "    .dataframe tbody tr th {\n",
       "        vertical-align: top;\n",
       "    }\n",
       "\n",
       "    .dataframe thead th {\n",
       "        text-align: right;\n",
       "    }\n",
       "</style>\n",
       "<table border=\"1\" class=\"dataframe\">\n",
       "  <thead>\n",
       "    <tr style=\"text-align: right;\">\n",
       "      <th></th>\n",
       "      <th>job_id</th>\n",
       "      <th>title</th>\n",
       "      <th>location</th>\n",
       "      <th>department</th>\n",
       "      <th>salary_range</th>\n",
       "      <th>company_profile</th>\n",
       "      <th>description</th>\n",
       "      <th>requirements</th>\n",
       "      <th>benefits</th>\n",
       "      <th>telecommuting</th>\n",
       "      <th>has_company_logo</th>\n",
       "      <th>has_questions</th>\n",
       "      <th>employment_type</th>\n",
       "      <th>required_experience</th>\n",
       "      <th>required_education</th>\n",
       "      <th>industry</th>\n",
       "      <th>function</th>\n",
       "      <th>fraudulent</th>\n",
       "    </tr>\n",
       "  </thead>\n",
       "  <tbody>\n",
       "    <tr>\n",
       "      <th>0</th>\n",
       "      <td>1</td>\n",
       "      <td>Marketing Intern</td>\n",
       "      <td>US, NY, New York</td>\n",
       "      <td>Marketing</td>\n",
       "      <td>NaN</td>\n",
       "      <td>We're Food52, and we've created a groundbreaki...</td>\n",
       "      <td>Food52, a fast-growing, James Beard Award-winn...</td>\n",
       "      <td>Experience with content management systems a m...</td>\n",
       "      <td>NaN</td>\n",
       "      <td>0</td>\n",
       "      <td>1</td>\n",
       "      <td>0</td>\n",
       "      <td>Other</td>\n",
       "      <td>Internship</td>\n",
       "      <td>NaN</td>\n",
       "      <td>NaN</td>\n",
       "      <td>Marketing</td>\n",
       "      <td>0</td>\n",
       "    </tr>\n",
       "    <tr>\n",
       "      <th>1</th>\n",
       "      <td>2</td>\n",
       "      <td>Customer Service - Cloud Video Production</td>\n",
       "      <td>NZ, , Auckland</td>\n",
       "      <td>Success</td>\n",
       "      <td>NaN</td>\n",
       "      <td>90 Seconds, the worlds Cloud Video Production ...</td>\n",
       "      <td>Organised - Focused - Vibrant - Awesome!Do you...</td>\n",
       "      <td>What we expect from you:Your key responsibilit...</td>\n",
       "      <td>What you will get from usThrough being part of...</td>\n",
       "      <td>0</td>\n",
       "      <td>1</td>\n",
       "      <td>0</td>\n",
       "      <td>Full-time</td>\n",
       "      <td>Not Applicable</td>\n",
       "      <td>NaN</td>\n",
       "      <td>Marketing and Advertising</td>\n",
       "      <td>Customer Service</td>\n",
       "      <td>0</td>\n",
       "    </tr>\n",
       "    <tr>\n",
       "      <th>2</th>\n",
       "      <td>3</td>\n",
       "      <td>Commissioning Machinery Assistant (CMA)</td>\n",
       "      <td>US, IA, Wever</td>\n",
       "      <td>NaN</td>\n",
       "      <td>NaN</td>\n",
       "      <td>Valor Services provides Workforce Solutions th...</td>\n",
       "      <td>Our client, located in Houston, is actively se...</td>\n",
       "      <td>Implement pre-commissioning and commissioning ...</td>\n",
       "      <td>NaN</td>\n",
       "      <td>0</td>\n",
       "      <td>1</td>\n",
       "      <td>0</td>\n",
       "      <td>NaN</td>\n",
       "      <td>NaN</td>\n",
       "      <td>NaN</td>\n",
       "      <td>NaN</td>\n",
       "      <td>NaN</td>\n",
       "      <td>0</td>\n",
       "    </tr>\n",
       "    <tr>\n",
       "      <th>3</th>\n",
       "      <td>4</td>\n",
       "      <td>Account Executive - Washington DC</td>\n",
       "      <td>US, DC, Washington</td>\n",
       "      <td>Sales</td>\n",
       "      <td>NaN</td>\n",
       "      <td>Our passion for improving quality of life thro...</td>\n",
       "      <td>THE COMPANY: ESRI – Environmental Systems Rese...</td>\n",
       "      <td>EDUCATION: Bachelor’s or Master’s in GIS, busi...</td>\n",
       "      <td>Our culture is anything but corporate—we have ...</td>\n",
       "      <td>0</td>\n",
       "      <td>1</td>\n",
       "      <td>0</td>\n",
       "      <td>Full-time</td>\n",
       "      <td>Mid-Senior level</td>\n",
       "      <td>Bachelor's Degree</td>\n",
       "      <td>Computer Software</td>\n",
       "      <td>Sales</td>\n",
       "      <td>0</td>\n",
       "    </tr>\n",
       "    <tr>\n",
       "      <th>4</th>\n",
       "      <td>5</td>\n",
       "      <td>Bill Review Manager</td>\n",
       "      <td>US, FL, Fort Worth</td>\n",
       "      <td>NaN</td>\n",
       "      <td>NaN</td>\n",
       "      <td>SpotSource Solutions LLC is a Global Human Cap...</td>\n",
       "      <td>JOB TITLE: Itemization Review ManagerLOCATION:...</td>\n",
       "      <td>QUALIFICATIONS:RN license in the State of Texa...</td>\n",
       "      <td>Full Benefits Offered</td>\n",
       "      <td>0</td>\n",
       "      <td>1</td>\n",
       "      <td>1</td>\n",
       "      <td>Full-time</td>\n",
       "      <td>Mid-Senior level</td>\n",
       "      <td>Bachelor's Degree</td>\n",
       "      <td>Hospital &amp; Health Care</td>\n",
       "      <td>Health Care Provider</td>\n",
       "      <td>0</td>\n",
       "    </tr>\n",
       "    <tr>\n",
       "      <th>...</th>\n",
       "      <td>...</td>\n",
       "      <td>...</td>\n",
       "      <td>...</td>\n",
       "      <td>...</td>\n",
       "      <td>...</td>\n",
       "      <td>...</td>\n",
       "      <td>...</td>\n",
       "      <td>...</td>\n",
       "      <td>...</td>\n",
       "      <td>...</td>\n",
       "      <td>...</td>\n",
       "      <td>...</td>\n",
       "      <td>...</td>\n",
       "      <td>...</td>\n",
       "      <td>...</td>\n",
       "      <td>...</td>\n",
       "      <td>...</td>\n",
       "      <td>...</td>\n",
       "    </tr>\n",
       "    <tr>\n",
       "      <th>17875</th>\n",
       "      <td>17876</td>\n",
       "      <td>Account Director - Distribution</td>\n",
       "      <td>CA, ON, Toronto</td>\n",
       "      <td>Sales</td>\n",
       "      <td>NaN</td>\n",
       "      <td>Vend is looking for some awesome new talent to...</td>\n",
       "      <td>Just in case this is the first time you’ve vis...</td>\n",
       "      <td>To ace this role you:Will eat comprehensive St...</td>\n",
       "      <td>What can you expect from us?We have an open cu...</td>\n",
       "      <td>0</td>\n",
       "      <td>1</td>\n",
       "      <td>1</td>\n",
       "      <td>Full-time</td>\n",
       "      <td>Mid-Senior level</td>\n",
       "      <td>NaN</td>\n",
       "      <td>Computer Software</td>\n",
       "      <td>Sales</td>\n",
       "      <td>0</td>\n",
       "    </tr>\n",
       "    <tr>\n",
       "      <th>17876</th>\n",
       "      <td>17877</td>\n",
       "      <td>Payroll Accountant</td>\n",
       "      <td>US, PA, Philadelphia</td>\n",
       "      <td>Accounting</td>\n",
       "      <td>NaN</td>\n",
       "      <td>WebLinc is the e-commerce platform and service...</td>\n",
       "      <td>The Payroll Accountant will focus primarily on...</td>\n",
       "      <td>- B.A. or B.S. in Accounting- Desire to have f...</td>\n",
       "      <td>Health &amp;amp; WellnessMedical planPrescription ...</td>\n",
       "      <td>0</td>\n",
       "      <td>1</td>\n",
       "      <td>1</td>\n",
       "      <td>Full-time</td>\n",
       "      <td>Mid-Senior level</td>\n",
       "      <td>Bachelor's Degree</td>\n",
       "      <td>Internet</td>\n",
       "      <td>Accounting/Auditing</td>\n",
       "      <td>0</td>\n",
       "    </tr>\n",
       "    <tr>\n",
       "      <th>17877</th>\n",
       "      <td>17878</td>\n",
       "      <td>Project Cost Control Staff Engineer - Cost Con...</td>\n",
       "      <td>US, TX, Houston</td>\n",
       "      <td>NaN</td>\n",
       "      <td>NaN</td>\n",
       "      <td>We Provide Full Time Permanent Positions for m...</td>\n",
       "      <td>Experienced Project Cost Control Staff Enginee...</td>\n",
       "      <td>At least 12 years professional experience.Abil...</td>\n",
       "      <td>NaN</td>\n",
       "      <td>0</td>\n",
       "      <td>0</td>\n",
       "      <td>0</td>\n",
       "      <td>Full-time</td>\n",
       "      <td>NaN</td>\n",
       "      <td>NaN</td>\n",
       "      <td>NaN</td>\n",
       "      <td>NaN</td>\n",
       "      <td>0</td>\n",
       "    </tr>\n",
       "    <tr>\n",
       "      <th>17878</th>\n",
       "      <td>17879</td>\n",
       "      <td>Graphic Designer</td>\n",
       "      <td>NG, LA, Lagos</td>\n",
       "      <td>NaN</td>\n",
       "      <td>NaN</td>\n",
       "      <td>NaN</td>\n",
       "      <td>Nemsia Studios is looking for an experienced v...</td>\n",
       "      <td>1. Must be fluent in the latest versions of Co...</td>\n",
       "      <td>Competitive salary (compensation will be based...</td>\n",
       "      <td>0</td>\n",
       "      <td>0</td>\n",
       "      <td>1</td>\n",
       "      <td>Contract</td>\n",
       "      <td>Not Applicable</td>\n",
       "      <td>Professional</td>\n",
       "      <td>Graphic Design</td>\n",
       "      <td>Design</td>\n",
       "      <td>0</td>\n",
       "    </tr>\n",
       "    <tr>\n",
       "      <th>17879</th>\n",
       "      <td>17880</td>\n",
       "      <td>Web Application Developers</td>\n",
       "      <td>NZ, N, Wellington</td>\n",
       "      <td>Engineering</td>\n",
       "      <td>NaN</td>\n",
       "      <td>Vend is looking for some awesome new talent to...</td>\n",
       "      <td>Who are we?Vend is an award winning web based ...</td>\n",
       "      <td>We want to hear from you if:You have an in-dep...</td>\n",
       "      <td>NaN</td>\n",
       "      <td>0</td>\n",
       "      <td>1</td>\n",
       "      <td>1</td>\n",
       "      <td>Full-time</td>\n",
       "      <td>Mid-Senior level</td>\n",
       "      <td>NaN</td>\n",
       "      <td>Computer Software</td>\n",
       "      <td>Engineering</td>\n",
       "      <td>0</td>\n",
       "    </tr>\n",
       "  </tbody>\n",
       "</table>\n",
       "<p>17880 rows × 18 columns</p>\n",
       "</div>"
      ],
      "text/plain": [
       "       job_id                                              title  \\\n",
       "0           1                                   Marketing Intern   \n",
       "1           2          Customer Service - Cloud Video Production   \n",
       "2           3            Commissioning Machinery Assistant (CMA)   \n",
       "3           4                  Account Executive - Washington DC   \n",
       "4           5                                Bill Review Manager   \n",
       "...       ...                                                ...   \n",
       "17875   17876                   Account Director - Distribution    \n",
       "17876   17877                                 Payroll Accountant   \n",
       "17877   17878  Project Cost Control Staff Engineer - Cost Con...   \n",
       "17878   17879                                   Graphic Designer   \n",
       "17879   17880                         Web Application Developers   \n",
       "\n",
       "                   location   department salary_range  \\\n",
       "0          US, NY, New York    Marketing          NaN   \n",
       "1            NZ, , Auckland      Success          NaN   \n",
       "2             US, IA, Wever          NaN          NaN   \n",
       "3        US, DC, Washington        Sales          NaN   \n",
       "4        US, FL, Fort Worth          NaN          NaN   \n",
       "...                     ...          ...          ...   \n",
       "17875       CA, ON, Toronto        Sales          NaN   \n",
       "17876  US, PA, Philadelphia   Accounting          NaN   \n",
       "17877       US, TX, Houston          NaN          NaN   \n",
       "17878         NG, LA, Lagos          NaN          NaN   \n",
       "17879     NZ, N, Wellington  Engineering          NaN   \n",
       "\n",
       "                                         company_profile  \\\n",
       "0      We're Food52, and we've created a groundbreaki...   \n",
       "1      90 Seconds, the worlds Cloud Video Production ...   \n",
       "2      Valor Services provides Workforce Solutions th...   \n",
       "3      Our passion for improving quality of life thro...   \n",
       "4      SpotSource Solutions LLC is a Global Human Cap...   \n",
       "...                                                  ...   \n",
       "17875  Vend is looking for some awesome new talent to...   \n",
       "17876  WebLinc is the e-commerce platform and service...   \n",
       "17877  We Provide Full Time Permanent Positions for m...   \n",
       "17878                                                NaN   \n",
       "17879  Vend is looking for some awesome new talent to...   \n",
       "\n",
       "                                             description  \\\n",
       "0      Food52, a fast-growing, James Beard Award-winn...   \n",
       "1      Organised - Focused - Vibrant - Awesome!Do you...   \n",
       "2      Our client, located in Houston, is actively se...   \n",
       "3      THE COMPANY: ESRI – Environmental Systems Rese...   \n",
       "4      JOB TITLE: Itemization Review ManagerLOCATION:...   \n",
       "...                                                  ...   \n",
       "17875  Just in case this is the first time you’ve vis...   \n",
       "17876  The Payroll Accountant will focus primarily on...   \n",
       "17877  Experienced Project Cost Control Staff Enginee...   \n",
       "17878  Nemsia Studios is looking for an experienced v...   \n",
       "17879  Who are we?Vend is an award winning web based ...   \n",
       "\n",
       "                                            requirements  \\\n",
       "0      Experience with content management systems a m...   \n",
       "1      What we expect from you:Your key responsibilit...   \n",
       "2      Implement pre-commissioning and commissioning ...   \n",
       "3      EDUCATION: Bachelor’s or Master’s in GIS, busi...   \n",
       "4      QUALIFICATIONS:RN license in the State of Texa...   \n",
       "...                                                  ...   \n",
       "17875  To ace this role you:Will eat comprehensive St...   \n",
       "17876  - B.A. or B.S. in Accounting- Desire to have f...   \n",
       "17877  At least 12 years professional experience.Abil...   \n",
       "17878  1. Must be fluent in the latest versions of Co...   \n",
       "17879  We want to hear from you if:You have an in-dep...   \n",
       "\n",
       "                                                benefits  telecommuting  \\\n",
       "0                                                    NaN              0   \n",
       "1      What you will get from usThrough being part of...              0   \n",
       "2                                                    NaN              0   \n",
       "3      Our culture is anything but corporate—we have ...              0   \n",
       "4                                  Full Benefits Offered              0   \n",
       "...                                                  ...            ...   \n",
       "17875  What can you expect from us?We have an open cu...              0   \n",
       "17876  Health &amp; WellnessMedical planPrescription ...              0   \n",
       "17877                                                NaN              0   \n",
       "17878  Competitive salary (compensation will be based...              0   \n",
       "17879                                                NaN              0   \n",
       "\n",
       "       has_company_logo  has_questions employment_type required_experience  \\\n",
       "0                     1              0           Other          Internship   \n",
       "1                     1              0       Full-time      Not Applicable   \n",
       "2                     1              0             NaN                 NaN   \n",
       "3                     1              0       Full-time    Mid-Senior level   \n",
       "4                     1              1       Full-time    Mid-Senior level   \n",
       "...                 ...            ...             ...                 ...   \n",
       "17875                 1              1       Full-time    Mid-Senior level   \n",
       "17876                 1              1       Full-time    Mid-Senior level   \n",
       "17877                 0              0       Full-time                 NaN   \n",
       "17878                 0              1        Contract      Not Applicable   \n",
       "17879                 1              1       Full-time    Mid-Senior level   \n",
       "\n",
       "      required_education                   industry              function  \\\n",
       "0                    NaN                        NaN             Marketing   \n",
       "1                    NaN  Marketing and Advertising      Customer Service   \n",
       "2                    NaN                        NaN                   NaN   \n",
       "3      Bachelor's Degree          Computer Software                 Sales   \n",
       "4      Bachelor's Degree     Hospital & Health Care  Health Care Provider   \n",
       "...                  ...                        ...                   ...   \n",
       "17875                NaN          Computer Software                 Sales   \n",
       "17876  Bachelor's Degree                   Internet   Accounting/Auditing   \n",
       "17877                NaN                        NaN                   NaN   \n",
       "17878       Professional             Graphic Design                Design   \n",
       "17879                NaN          Computer Software           Engineering   \n",
       "\n",
       "       fraudulent  \n",
       "0               0  \n",
       "1               0  \n",
       "2               0  \n",
       "3               0  \n",
       "4               0  \n",
       "...           ...  \n",
       "17875           0  \n",
       "17876           0  \n",
       "17877           0  \n",
       "17878           0  \n",
       "17879           0  \n",
       "\n",
       "[17880 rows x 18 columns]"
      ]
     },
     "execution_count": 2,
     "metadata": {},
     "output_type": "execute_result"
    }
   ],
   "source": [
    "data=pd.read_csv(\"fake_job_postings.csv\")\n",
    "data"
   ]
  },
  {
   "cell_type": "code",
   "execution_count": 3,
   "metadata": {},
   "outputs": [],
   "source": [
    "#droping the unnecessary columns\n",
    "data.drop(columns=['job_id','salary_range'],inplace=True,axis=1)"
   ]
  },
  {
   "cell_type": "code",
   "execution_count": 4,
   "metadata": {},
   "outputs": [
    {
     "data": {
      "text/html": [
       "<div>\n",
       "<style scoped>\n",
       "    .dataframe tbody tr th:only-of-type {\n",
       "        vertical-align: middle;\n",
       "    }\n",
       "\n",
       "    .dataframe tbody tr th {\n",
       "        vertical-align: top;\n",
       "    }\n",
       "\n",
       "    .dataframe thead th {\n",
       "        text-align: right;\n",
       "    }\n",
       "</style>\n",
       "<table border=\"1\" class=\"dataframe\">\n",
       "  <thead>\n",
       "    <tr style=\"text-align: right;\">\n",
       "      <th></th>\n",
       "      <th>telecommuting</th>\n",
       "      <th>has_company_logo</th>\n",
       "      <th>has_questions</th>\n",
       "      <th>fraudulent</th>\n",
       "    </tr>\n",
       "  </thead>\n",
       "  <tbody>\n",
       "    <tr>\n",
       "      <th>count</th>\n",
       "      <td>17880.000000</td>\n",
       "      <td>17880.000000</td>\n",
       "      <td>17880.000000</td>\n",
       "      <td>17880.000000</td>\n",
       "    </tr>\n",
       "    <tr>\n",
       "      <th>mean</th>\n",
       "      <td>0.042897</td>\n",
       "      <td>0.795302</td>\n",
       "      <td>0.491723</td>\n",
       "      <td>0.048434</td>\n",
       "    </tr>\n",
       "    <tr>\n",
       "      <th>std</th>\n",
       "      <td>0.202631</td>\n",
       "      <td>0.403492</td>\n",
       "      <td>0.499945</td>\n",
       "      <td>0.214688</td>\n",
       "    </tr>\n",
       "    <tr>\n",
       "      <th>min</th>\n",
       "      <td>0.000000</td>\n",
       "      <td>0.000000</td>\n",
       "      <td>0.000000</td>\n",
       "      <td>0.000000</td>\n",
       "    </tr>\n",
       "    <tr>\n",
       "      <th>25%</th>\n",
       "      <td>0.000000</td>\n",
       "      <td>1.000000</td>\n",
       "      <td>0.000000</td>\n",
       "      <td>0.000000</td>\n",
       "    </tr>\n",
       "    <tr>\n",
       "      <th>50%</th>\n",
       "      <td>0.000000</td>\n",
       "      <td>1.000000</td>\n",
       "      <td>0.000000</td>\n",
       "      <td>0.000000</td>\n",
       "    </tr>\n",
       "    <tr>\n",
       "      <th>75%</th>\n",
       "      <td>0.000000</td>\n",
       "      <td>1.000000</td>\n",
       "      <td>1.000000</td>\n",
       "      <td>0.000000</td>\n",
       "    </tr>\n",
       "    <tr>\n",
       "      <th>max</th>\n",
       "      <td>1.000000</td>\n",
       "      <td>1.000000</td>\n",
       "      <td>1.000000</td>\n",
       "      <td>1.000000</td>\n",
       "    </tr>\n",
       "  </tbody>\n",
       "</table>\n",
       "</div>"
      ],
      "text/plain": [
       "       telecommuting  has_company_logo  has_questions    fraudulent\n",
       "count   17880.000000      17880.000000   17880.000000  17880.000000\n",
       "mean        0.042897          0.795302       0.491723      0.048434\n",
       "std         0.202631          0.403492       0.499945      0.214688\n",
       "min         0.000000          0.000000       0.000000      0.000000\n",
       "25%         0.000000          1.000000       0.000000      0.000000\n",
       "50%         0.000000          1.000000       0.000000      0.000000\n",
       "75%         0.000000          1.000000       1.000000      0.000000\n",
       "max         1.000000          1.000000       1.000000      1.000000"
      ]
     },
     "execution_count": 4,
     "metadata": {},
     "output_type": "execute_result"
    }
   ],
   "source": [
    "data.describe()"
   ]
  },
  {
   "cell_type": "code",
   "execution_count": 5,
   "metadata": {},
   "outputs": [
    {
     "data": {
      "text/plain": [
       "title                      0\n",
       "location                 346\n",
       "department             11547\n",
       "company_profile         3308\n",
       "description                1\n",
       "requirements            2695\n",
       "benefits                7210\n",
       "telecommuting              0\n",
       "has_company_logo           0\n",
       "has_questions              0\n",
       "employment_type         3471\n",
       "required_experience     7050\n",
       "required_education      8105\n",
       "industry                4903\n",
       "function                6455\n",
       "fraudulent                 0\n",
       "dtype: int64"
      ]
     },
     "execution_count": 5,
     "metadata": {},
     "output_type": "execute_result"
    }
   ],
   "source": [
    "#checking for no. of nan values in the each column in the data set\n",
    "data.apply(lambda x:x.isnull().sum(),axis=0)"
   ]
  },
  {
   "cell_type": "code",
   "execution_count": 6,
   "metadata": {},
   "outputs": [
    {
     "data": {
      "text/plain": [
       "GB, LND, London               718\n",
       "US, NY, New York              658\n",
       "US, CA, San Francisco         472\n",
       "GR, I, Athens                 464\n",
       "US, ,                         339\n",
       "                             ... \n",
       "US, CA, Montebello              1\n",
       "RU, ,                           1\n",
       "US, , East Peoria               1\n",
       "GB, , Watford                   1\n",
       "US, MI, South Haven/Covert      1\n",
       "Name: location, Length: 3105, dtype: int64"
      ]
     },
     "execution_count": 6,
     "metadata": {},
     "output_type": "execute_result"
    }
   ],
   "source": [
    "#frequently-occurring element\n",
    "data['location'].value_counts()"
   ]
  },
  {
   "cell_type": "code",
   "execution_count": 7,
   "metadata": {},
   "outputs": [],
   "source": [
    "#filling the null values with mode function(for location)\n",
    "data['location'].fillna('GB, LND, London', inplace=True)"
   ]
  },
  {
   "cell_type": "code",
   "execution_count": 8,
   "metadata": {},
   "outputs": [
    {
     "data": {
      "text/plain": [
       "Sales                               551\n",
       "Engineering                         487\n",
       "Marketing                           401\n",
       "Operations                          270\n",
       "IT                                  225\n",
       "                                   ... \n",
       "Pawsitive Purrvention TV & Radio      1\n",
       "Voxburner                             1\n",
       "Garage                                1\n",
       "Office Support                        1\n",
       "reception                             1\n",
       "Name: department, Length: 1337, dtype: int64"
      ]
     },
     "execution_count": 8,
     "metadata": {},
     "output_type": "execute_result"
    }
   ],
   "source": [
    "#frequently-occurring element\n",
    "data['department'].value_counts()"
   ]
  },
  {
   "cell_type": "code",
   "execution_count": 9,
   "metadata": {},
   "outputs": [],
   "source": [
    "#filling the null values with mode function(for department)\n",
    "data['department'].fillna('Sales',inplace=True)"
   ]
  },
  {
   "cell_type": "code",
   "execution_count": 10,
   "metadata": {},
   "outputs": [
    {
     "data": {
      "text/plain": [
       "We help teachers get safe &amp; secure jobs abroad :)                                                                                                                                                                                                                                                                                                                                                                                                                                                                                                                                                                                                                                                                                                                                                                                                                                                                                                                                                                                                                                                                                                                                                                                                                                              726\n",
       "We Provide Full Time Permanent Positions for many medium to large US companies. We are interested in finding/recruiting high quality candidates in IT, Engineering, Manufacturing and other highly technical and non-technical jobs.                                                                                                                                                                                                                                                                                                                                                                                                                                                                                                                                                                                                                                                                                                                                                                                                                                                                                                                                                                                                                                                               674\n",
       "Novitex Enterprise Solutions, formerly Pitney Bowes Management Services, delivers innovative document and communications management solutions that help companies around the world drive business process efficiencies, increase productivity, reduce costs and improve customer satisfaction. For almost 30 years, clients have turned to us to integrate and optimize their enterprise-wide business processes to empower employees, increase productivity and maximize results. As a trusted partner, we continually focus on delivering secure, technology-enabled document and communications solutions that improve our clients' work processes, enhance their customer interactions and drive growth.                                                                                                                                                                                                                                                                                                                                                                                                                                                                                                                                                                                       574\n",
       "Established on the principles that full time education is not for everyone Spectrum Learning is made up of a team of passionate consultants with the drive for putting people who wish to grow themselves through education whilst working into long term and relevant job roles.We also are official re-sellers for The Institute of Recruiters/ Study Course professional courses in HR Practice, In-House Recruitment and Agency RecruitmentIt is our mission to help anyone wishing to pursue an apprenticeship onto the right qualification and into the right job.We work closely with both the candidate and the employer to ensure when the learner is enrolled they are at the start of a long and successful career.We have great relationships with a number of national training providers to ensure we can cover any apprenticeship available.                                                                                                                                                                                                                                                                                                                                                                                                                                        450\n",
       "Applied Memetics LLC is a professional services company dedicated to integrating and delivering best practice communication and information solutions in pre-conflict, conflict, or post-conflict areas.  The world has changed: ‘always on’ brands require a new way of thinking to engage and manage their consumers. Our purpose is to inspire original thinking through a deeper understanding of technology and human behaviour.  From strategy through to implementation, our teams of connected specialists – all experts in their respective fields – work together to help our clients maximise the opportunities created by the changing digital world and create a multi faceted digital strategy through to implementation.Our work explores a new model of journalism that is based around a global story – in this case, the struggle for human rights and democracy around the world. Our goal is to build a better user experience of these stories by adding context to content, using the latest digital tools of the day. Over time, we hope to add greater clarity, deeper understanding, and more sustained engagement to the conversations surrounding global events. As such, our content is transcribed and translated into English for broadcast to a global audience.    185\n",
       "                                                                                                                                                                                                                                                                                                                                                                                                                                                                                                                                                                                                                                                                                                                                                                                                                                                                                                                                                                                                                                                                                                                                                                                                                                                                                                  ... \n",
       "mbriyo supports start-ups in their quest to grow and prosper by helping them to identify the core start-up processes and to focus their resources on the things that matter the most. It currently provides technical know-how, strategic business consulting and working space to three ventures: Sportaff (FBN) Ltd., giaola PC and Ellinopoula Ltd.                                                                                                                                                                                                                                                                                                                                                                                                                                                                                                                                                                                                                                                                                                                                                                                                                                                                                                                                               1\n",
       "Focus Camera is a family owned and operated nationwide specialty on-line retailer.  Our roots are in a brick-and-mortar retail, operating in the same New York neighborhood location for over 40 years. We have taken our consumer-oriented philosophy that has served us well in our local community, and expanded it to serve customers nationwide.Customer Service is our #1 priority. We make customers; not just sales. Our customers are our investment. “Treat every customer as if they sign your paycheck…because they do.” This has been our credo, and it is for this reason that many of our orders are from repeat customers.We carry a wide range of all brand-name photographic products, including digital cameras and camcorders, digital frames, and photo printers.  In addition, we carry consumer electronics, optics equipment such as binoculars and telescopes, and some kitchen and home appliances.Our prices are very competitive. We sell only top-quality merchandise, and our customer service is second to none. Join our family of satisfied customers, and you will be glad you did. In fact, our best advertisers are our satisfied customers, more than 400,000 strong, and growing daily.                                                                        1\n",
       "DonationMatch is the #URL_ad81be50f07523d973076e5fd370e1751cac7ac4984df500e9c8a222efaa0fa4# for charitable event organizers and companies with product donations and giveaways. A social enterprise startup, we thrive on building the best system to facilitate these win-win connections while maximizing the advantages for both donor companies and recipient school and nonprofits.Sampling for Good, powered by DonationMatch, is the first self-service platform offering direct access to thousands of event organizers in one place. Brand marketers and agencies use our tool to efficiently distribute product samples, giveaways, and promotional offers at school and nonprofit events in clicks.Our service is offered free to tax-exempt schools and nonprofits for events like runs, festivals, galas, and conferences nationwide.                                                                                                                                                                                                                                                                                                                                                                                                                                                   1\n",
       "MemSQL is a scalable real-time analytics platform. We make it easy to query Big Data quickly, allowing companies to move faster and adapt to changing business conditions instantly. MemSQL’s real-time analytics platform is proven in production environments across thousands of nodes in the most high-velocity Big Data environments in the world.We've seen the future and our vision is to build the technology that gets our customers theretoday.                                                                                                                                                                                                                                                                                                                                                                                                                                                                                                                                                                                                                                                                                                                                                                                                                                           1\n",
       "A vacation rental platform that will re-invent reliability and security to travellers.                                                                                                                                                                                                                                                                                                                                                                                                                                                                                                                                                                                                                                                                                                                                                                                                                                                                                                                                                                                                                                                                                                                                                                                                               1\n",
       "Name: company_profile, Length: 1709, dtype: int64"
      ]
     },
     "execution_count": 10,
     "metadata": {},
     "output_type": "execute_result"
    }
   ],
   "source": [
    "data['company_profile'].value_counts()"
   ]
  },
  {
   "cell_type": "code",
   "execution_count": 11,
   "metadata": {},
   "outputs": [],
   "source": [
    "data['company_profile'].fillna('We help teachers get safe &amp; secure jobs abroad :)',inplace=True)"
   ]
  },
  {
   "cell_type": "code",
   "execution_count": 12,
   "metadata": {},
   "outputs": [
    {
     "data": {
      "text/plain": [
       "title                     0\n",
       "location                  0\n",
       "department                0\n",
       "company_profile           0\n",
       "description               1\n",
       "requirements           2695\n",
       "benefits               7210\n",
       "telecommuting             0\n",
       "has_company_logo          0\n",
       "has_questions             0\n",
       "employment_type        3471\n",
       "required_experience    7050\n",
       "required_education     8105\n",
       "industry               4903\n",
       "function               6455\n",
       "fraudulent                0\n",
       "dtype: int64"
      ]
     },
     "execution_count": 12,
     "metadata": {},
     "output_type": "execute_result"
    }
   ],
   "source": [
    "data.apply(lambda x:x.isnull().sum(),axis=0)"
   ]
  },
  {
   "cell_type": "code",
   "execution_count": 13,
   "metadata": {},
   "outputs": [
    {
     "data": {
      "text/plain": [
       "0    Play with kids, get paid for it Love travel? J...\n",
       "dtype: object"
      ]
     },
     "execution_count": 13,
     "metadata": {},
     "output_type": "execute_result"
    }
   ],
   "source": [
    "data['description'].mode()"
   ]
  },
  {
   "cell_type": "code",
   "execution_count": 14,
   "metadata": {},
   "outputs": [],
   "source": [
    "data['description'].fillna(data['description'].mode()[0], inplace=True)"
   ]
  },
  {
   "cell_type": "code",
   "execution_count": 15,
   "metadata": {},
   "outputs": [
    {
     "data": {
      "text/plain": [
       "University degree required. TEFL / TESOL / CELTA or teaching experience preferred but not necessaryCanada/US passport holders only                                                                                                                                                                                                                                                                                                                                                                                                                                                                                                                                                                                                                                                                                                                                                                                                                                                                                                                                                                                                                                                                                                       410\n",
       "University degree required. TEFL / TESOL / CELTA or teaching experience preferred but not necessaryPositive attitude required. Canada/US passport holders only                                                                                                                                                                                                                                                                                                                                                                                                                                                                                                                                                                                                                                                                                                                                                                                                                                                                                                                                                                                                                                                                           163\n",
       "16-18 year olds only due to government funding.Full time availability.                                                                                                                                                                                                                                                                                                                                                                                                                                                                                                                                                                                                                                                                                                                                                                                                                                                                                                                                                                                                                                                                                                                                                                   117\n",
       "Minimum Requirements:Minimum of 6 months customer service related experience requiredHigh school diploma or equivalent (GED) requiredPreferred Qualifications:Keyboarding and windows environment PC skills required (Word, Excel and PowerPoint preferred)Experience running mail posting equipment a plusExcellent communication skills both verbal and writtenLifting up to 55 lbs with or without accommodationsWillingness and availability to work additional hours if assignedWillingness to submit to a pre-employment drug screening and criminal background checkAbility to effectively work individually or in a team environmentCompetency in performing multiple functional tasksAbility to meet employer's attendance policy                                                                                                                                                                                                                                                                                                                                                                                                                                                                                                80\n",
       "University degree required. TEFL / TESOL / CELTA, and/or teaching experience preferredCanada/US passport holders only                                                                                                                                                                                                                                                                                                                                                                                                                                                                                                                                                                                                                                                                                                                                                                                                                                                                                                                                                                                                                                                                                                                     42\n",
       "                                                                                                                                                                                                                                                                                                                                                                                                                                                                                                                                                                                                                                                                                                                                                                                                                                                                                                                                                                                                                                                                                                                                                                                                                                        ... \n",
       "Manage all aspects of marketing programs including budget, plan, execution and reporting.Create sales &amp; marketing material including copywriting.Manage the company's social media presence as well as website content.Perform copywriting, review and QA for promotional materialTechnology and SMB marketing experience a plus.Tracking, reporting and analysis of marketing programs and campaigns.Bachelor’s degree in Business, Marketing or related field.Experience with conducting market research and analysis, and market intelligence activities.                                                                                                                                                                                                                                                                                                                                                                                                                                                                                                                                                                                                                                                                           1\n",
       "Minimum of 5 years of experience as a Business Analyst supporting project teams in the definition and delivery of custom-built and packaged business-critical systems.Excellent interpersonal skills with a proven ability to partner with the business to define and document their current and future system needs. Outstanding written and verbal communication skills with the ability to clearly communicate complex ideas to both technical and non-technical teams, from the specialist to C-level. Excellent analytical skills and ability to think outside-of-the-box when assessing possible solutions, including a thorough understanding of how to interpret customer business needs and translate them into application and operational requirements. Proven successful project management experience and successful completion of building out large-scale projects. Expertise with Microsoft Office, HPALM, and HP Agile Manager.Ability to set clear expectations, prioritize activities, and follow through to completion when working with other team members.Full professional proficiency in English.PlusesInterest in media or entertainment industriesExperience in a startup environmentProficiency in Spanish      1\n",
       "BS degree in Computer Science, Engineering, Mathematics, or equivalent experience5+ years of related experience in software development and 5+ years in people managementStrong abilities in .Net Development Technologies (C#, #URL_86fd830a95a64e2b30ceed829e63fd384c289e4f01e3c93608b42a84f6e662dd#, VB.net, etc)Experience with both Windows and Linux operating systemsWorking knowledge of SQL and relational  database systemsSolid understanding of object-oriented programming (OOP)Knowledge of standard concepts such as HTML and JavaScript, User Interface, Object Oriented concepts, Use Case and basic UML Diagrams.                                                                                                                                                                                                                                                                                                                                                                                                                                                                                                                                                                                                        1\n",
       "Education and Experience:Bachelor's degree and/or Master’s degree in Computer Science required, or related discipline, or equivalent work experience. Information security knowledge is preferred The successful candidate must be capable of receiving a US Government security clearance.  US Citizenship Required.                                                                                                                                                                                                                                                                                                                                                                                                                                                                                                                                                                                                                                                                                                                                                                                                                                                                                                                      1\n",
       "A degree qualification1 years experience ideal (not essential)Interest in digital advertising/social mediaAnalytical thinker                                                                                                                                                                                                                                                                                                                                                                                                                                                                                                                                                                                                                                                                                                                                                                                                                                                                                                                                                                                                                                                                                                               1\n",
       "Name: requirements, Length: 11968, dtype: int64"
      ]
     },
     "execution_count": 15,
     "metadata": {},
     "output_type": "execute_result"
    }
   ],
   "source": [
    "data['requirements'].value_counts()"
   ]
  },
  {
   "cell_type": "code",
   "execution_count": 16,
   "metadata": {},
   "outputs": [],
   "source": [
    "data['requirements'].fillna('University degree required. TEFL / TESOL / CELTA or teaching experience preferred but not necessaryCanada/US passport holders only',inplace=True)"
   ]
  },
  {
   "cell_type": "code",
   "execution_count": 17,
   "metadata": {},
   "outputs": [
    {
     "data": {
      "text/plain": [
       "title                     0\n",
       "location                  0\n",
       "department                0\n",
       "company_profile           0\n",
       "description               0\n",
       "requirements              0\n",
       "benefits               7210\n",
       "telecommuting             0\n",
       "has_company_logo          0\n",
       "has_questions             0\n",
       "employment_type        3471\n",
       "required_experience    7050\n",
       "required_education     8105\n",
       "industry               4903\n",
       "function               6455\n",
       "fraudulent                0\n",
       "dtype: int64"
      ]
     },
     "execution_count": 17,
     "metadata": {},
     "output_type": "execute_result"
    }
   ],
   "source": [
    "data.apply(lambda x:x.isnull().sum(),axis=0)"
   ]
  },
  {
   "cell_type": "code",
   "execution_count": 18,
   "metadata": {},
   "outputs": [
    {
     "data": {
      "text/plain": [
       "See job description                                                                                                                                                                                                                                                                                                                                                                                                                                                                                                                                                                                                                                                                                                                                                                                                                                                                                                                                                                                                                                                                                                                                                                                                                                                                                                                                                                                                                                                                                                                                                                                                                                                                                                                                                                                                                                                                                                                                                  726\n",
       "Career prospects.                                                                                                                                                                                                                                                                                                                                                                                                                                                                                                                                                                                                                                                                                                                                                                                                                                                                                                                                                                                                                                                                                                                                                                                                                                                                                                                                                                                                                                                                                                                                                                                                                                                                                                                                                                                                                                                                                                                                                    158\n",
       "CSD offers a competitive benefits package for full-time employees. For a full list of benefits and perks, please visit the career page.Communication Service for the Deaf, Inc. is an Equal Opportunity Affirmative Action Employer and drug free and tobacco free workplace. All qualified applicants will receive consideration for employment without regard to race, color, religion, sex, or national origin, including individuals with a disability and protected veterans.                                                                                                                                                                                                                                                                                                                                                                                                                                                                                                                                                                                                                                                                                                                                                                                                                                                                                                                                                                                                                                                                                                                                                                                                                                                                                                                                                                                                                                                                                    70\n",
       "Our company offers a competitive salary plus BONUSES as well as a comprehensive benefits package to our full-time employees including:40 vacation hours after 6 months of employment, 80 vacation hours after 1 year of employment6 paid holidays as well as an anniversary holiday benefitPaid personal and sick leave after 90 days of employmentHealth, dental, life, and disability insurance as well as AFLAC supplemental insuranceA 401K plan with a company match after six months of employment, however, we have quarterly enrollment periods.                                                                                                                                                                                                                                                                                                                                                                                                                                                                                                                                                                                                                                                                                                                                                                                                                                                                                                                                                                                                                                                                                                                                                                                                                                                                                                                                                                                                              60\n",
       "Plenty of perksAs well as the opportunity to solve complex problems in this exciting new era of big data, here’s what we offer:Realistic performance related bonusesGenerous equity options mean you’ll own a piece of the pieExcellent health and dental insurance packagesA relaxed approach to time off and enough holidays to see several corners of the worldFridge fully stocked with healthy snacks and the ultimate espresso machine for your java fixA competitive office where we play foosball, football, scrabble, go-karting… you name it, we’ll play itThank Qubit it’s Friday – we have lots of creative ways to let off steam at the end of the weekPlenty of opportunities for training and development                                                                                                                                                                                                                                                                                                                                                                                                                                                                                                                                                                                                                                                                                                                                                                                                                                                                                                                                                                                                                                                                                                                                                                                                                                              58\n",
       "                                                                                                                                                                                                                                                                                                                                                                                                                                                                                                                                                                                                                                                                                                                                                                                                                                                                                                                                                                                                                                                                                                                                                                                                                                                                                                                                                                                                                                                                                                                                                                                                                                                                                                                                                                                                                                                                                                                                                                    ... \n",
       "Attractive SalaryMulti-national CompanyCompany benefitsGreat work environment                                                                                                                                                                                                                                                                                                                                                                                                                                                                                                                                                                                                                                                                                                                                                                                                                                                                                                                                                                                                                                                                                                                                                                                                                                                                                                                                                                                                                                                                                                                                                                                                                                                                                                                                                                                                                                                                                          1\n",
       "Great potential for growth at a fast growth companyThe chance to get in at the ground level of a game-changing company. Fun, creative and challenging work environment.Position is a full-time permanent role in our vibrant East London officeReporting to the CEO and Sales and Retail Manager.                                                                                                                                                                                                                                                                                                                                                                                                                                                                                                                                                                                                                                                                                                                                                                                                                                                                                                                                                                                                                                                                                                                                                                                                                                                                                                                                                                                                                                                                                                                                                                                                                                                                      1\n",
       "Compensation Details:Full-time, Non-Exempt Hourly Position – Offering Competitive Wages &amp; Shift DifferentialBenefits Offered: Medical, Dental, Vision, Employee and Dependent Life Insurance, Long and Short Term Disability, and Paid Vacation and Sick Time.401K with Company match and a Performance Incentive Program                                                                                                                                                                                                                                                                                                                                                                                                                                                                                                                                                                                                                                                                                                                                                                                                                                                                                                                                                                                                                                                                                                                                                                                                                                                                                                                                                                                                                                                                                                                                                                                                                                          1\n",
       "Above average salaryOpportunities for personal growth in salesWork with a great team of passionate people in a high growth environmentFull healthcare benefits planPhone &amp; laptopMeal vouchers, internet at home, etc.                                                                                                                                                                                                                                                                                                                                                                                                                                                                                                                                                                                                                                                                                                                                                                                                                                                                                                                                                                                                                                                                                                                                                                                                                                                                                                                                                                                                                                                                                                                                                                                                                                                                                                                                             1\n",
       "It's not about what brands say. It's what they do that matters. People are no longer satisfied with simply \"hearing\" a brand's message; now it's the actual experiences we have with a brand that define its relevance—emotionally, socially and when it's time to buy. That's why Momentum Worldwide helps brands imagine, create, curate and manage their Total Brand Experience.From the screens you watch, to the registers you pay at, to your Facebook, to your actual conversations, to the concerts you go to, we put brands there in a way that’s different and entertaining. We integrate sponsorship, shopper, design, technology, social, promotions, PR, digital and entertainment and more – in a total brand experience for the modern consumer.Quite simply, our job is to help brands flourish – and we do this as one global agency (within the IPG family of agencies) with more than 30 offices around the world – all of us working together, eager to invent, challenge the norm and set the world on fire.To make that possible, we hire people who are ravenous for ingenuity and impatient with the status quo. We like good people, and we like really thrilling people. When those two things come together it’s a talent experience for the books. The biggest asset we have is our talent, and we take that seriously. Part of the IPG agency network, we have over 30 offices on six continents with more than 2,000 amazingly talented people in our family working together. And, it’s kind of awesome to be a part of a company working with some incredible brands, including American Express, Coca-Cola, Mondelez, Microsoft, Walmart, William Grant &amp; Sons and more. Why not join us? You could be a member of a growing team of people who love to imagine, concept, create, sculpt, sing, emote and dream in the interests of our clients and communities. We think it’s a special kind of calling. You should answer.      1\n",
       "Name: benefits, Length: 6205, dtype: int64"
      ]
     },
     "execution_count": 18,
     "metadata": {},
     "output_type": "execute_result"
    }
   ],
   "source": [
    "data['benefits'].value_counts()"
   ]
  },
  {
   "cell_type": "code",
   "execution_count": 19,
   "metadata": {},
   "outputs": [],
   "source": [
    "data['benefits'].fillna('See job description',inplace=True)"
   ]
  },
  {
   "cell_type": "code",
   "execution_count": 20,
   "metadata": {},
   "outputs": [
    {
     "data": {
      "text/plain": [
       "Full-time    11620\n",
       "Contract      1524\n",
       "Part-time      797\n",
       "Temporary      241\n",
       "Other          227\n",
       "Name: employment_type, dtype: int64"
      ]
     },
     "execution_count": 20,
     "metadata": {},
     "output_type": "execute_result"
    }
   ],
   "source": [
    "data['employment_type'].value_counts()"
   ]
  },
  {
   "cell_type": "code",
   "execution_count": 21,
   "metadata": {},
   "outputs": [],
   "source": [
    "data['employment_type'].fillna('Full-time',inplace=True)"
   ]
  },
  {
   "cell_type": "code",
   "execution_count": 22,
   "metadata": {},
   "outputs": [
    {
     "data": {
      "text/plain": [
       "title                     0\n",
       "location                  0\n",
       "department                0\n",
       "company_profile           0\n",
       "description               0\n",
       "requirements              0\n",
       "benefits                  0\n",
       "telecommuting             0\n",
       "has_company_logo          0\n",
       "has_questions             0\n",
       "employment_type           0\n",
       "required_experience    7050\n",
       "required_education     8105\n",
       "industry               4903\n",
       "function               6455\n",
       "fraudulent                0\n",
       "dtype: int64"
      ]
     },
     "execution_count": 22,
     "metadata": {},
     "output_type": "execute_result"
    }
   ],
   "source": [
    "data.apply(lambda x:x.isnull().sum(),axis=0)"
   ]
  },
  {
   "cell_type": "code",
   "execution_count": 23,
   "metadata": {},
   "outputs": [
    {
     "data": {
      "text/plain": [
       "Mid-Senior level    3809\n",
       "Entry level         2697\n",
       "Associate           2297\n",
       "Not Applicable      1116\n",
       "Director             389\n",
       "Internship           381\n",
       "Executive            141\n",
       "Name: required_experience, dtype: int64"
      ]
     },
     "execution_count": 23,
     "metadata": {},
     "output_type": "execute_result"
    }
   ],
   "source": [
    "data['required_experience'].value_counts()"
   ]
  },
  {
   "cell_type": "code",
   "execution_count": 24,
   "metadata": {},
   "outputs": [],
   "source": [
    "data['required_experience'].fillna('Mid-Senior level',inplace=True)"
   ]
  },
  {
   "cell_type": "code",
   "execution_count": 25,
   "metadata": {},
   "outputs": [],
   "source": [
    "data['required_education'].fillna(data['required_education'].mode()[0],inplace=True)"
   ]
  },
  {
   "cell_type": "code",
   "execution_count": 26,
   "metadata": {},
   "outputs": [
    {
     "data": {
      "text/plain": [
       "Information Technology and Services    1734\n",
       "Computer Software                      1376\n",
       "Internet                               1062\n",
       "Marketing and Advertising               828\n",
       "Education Management                    822\n",
       "                                       ... \n",
       "Museums and Institutions                  1\n",
       "Sporting Goods                            1\n",
       "Ranching                                  1\n",
       "Alternative Dispute Resolution            1\n",
       "Wine and Spirits                          1\n",
       "Name: industry, Length: 131, dtype: int64"
      ]
     },
     "execution_count": 26,
     "metadata": {},
     "output_type": "execute_result"
    }
   ],
   "source": [
    "data['industry'].value_counts()"
   ]
  },
  {
   "cell_type": "code",
   "execution_count": 27,
   "metadata": {},
   "outputs": [],
   "source": [
    "data['industry'].fillna('Information Technology and Services',inplace=True)"
   ]
  },
  {
   "cell_type": "code",
   "execution_count": 28,
   "metadata": {},
   "outputs": [
    {
     "data": {
      "text/plain": [
       "Information Technology    1749\n",
       "Sales                     1468\n",
       "Engineering               1348\n",
       "Customer Service          1229\n",
       "Marketing                  830\n",
       "Administrative             630\n",
       "Design                     340\n",
       "Health Care Provider       338\n",
       "Other                      325\n",
       "Education                  325\n",
       "Management                 317\n",
       "Business Development       228\n",
       "Accounting/Auditing        212\n",
       "Human Resources            205\n",
       "Project Management         183\n",
       "Finance                    172\n",
       "Consulting                 144\n",
       "Writing/Editing            132\n",
       "Art/Creative               132\n",
       "Production                 116\n",
       "Product Management         114\n",
       "Quality Assurance          111\n",
       "Advertising                 90\n",
       "Business Analyst            84\n",
       "Data Analyst                82\n",
       "Public Relations            76\n",
       "Manufacturing               74\n",
       "General Business            68\n",
       "Research                    50\n",
       "Legal                       47\n",
       "Strategy/Planning           46\n",
       "Training                    38\n",
       "Supply Chain                36\n",
       "Financial Analyst           33\n",
       "Distribution                24\n",
       "Purchasing                  15\n",
       "Science                     14\n",
       "Name: function, dtype: int64"
      ]
     },
     "execution_count": 28,
     "metadata": {},
     "output_type": "execute_result"
    }
   ],
   "source": [
    "data['function'].value_counts()"
   ]
  },
  {
   "cell_type": "code",
   "execution_count": 29,
   "metadata": {},
   "outputs": [],
   "source": [
    "data['function'].fillna('Information Technology',inplace=True)"
   ]
  },
  {
   "cell_type": "code",
   "execution_count": 30,
   "metadata": {},
   "outputs": [
    {
     "data": {
      "text/plain": [
       "title                  0\n",
       "location               0\n",
       "department             0\n",
       "company_profile        0\n",
       "description            0\n",
       "requirements           0\n",
       "benefits               0\n",
       "telecommuting          0\n",
       "has_company_logo       0\n",
       "has_questions          0\n",
       "employment_type        0\n",
       "required_experience    0\n",
       "required_education     0\n",
       "industry               0\n",
       "function               0\n",
       "fraudulent             0\n",
       "dtype: int64"
      ]
     },
     "execution_count": 30,
     "metadata": {},
     "output_type": "execute_result"
    }
   ],
   "source": [
    "data.apply(lambda x:x.isnull().sum(),axis=0)"
   ]
  },
  {
   "cell_type": "markdown",
   "metadata": {},
   "source": [
    "## Exploratory Data Analysis\n",
    "## Data visualization"
   ]
  },
  {
   "cell_type": "code",
   "execution_count": 31,
   "metadata": {},
   "outputs": [
    {
     "data": {
      "text/plain": [
       "0    17014\n",
       "1      866\n",
       "Name: fraudulent, dtype: int64"
      ]
     },
     "execution_count": 31,
     "metadata": {},
     "output_type": "execute_result"
    },
    {
     "data": {
      "image/png": "[encoded data removed]",
      "text/plain": [
       "<Figure size 432x288 with 1 Axes>"
      ]
     },
     "metadata": {
      "needs_background": "light"
     },
     "output_type": "display_data"
    }
   ],
   "source": [
    "import seaborn as sns\n",
    "sns.countplot(data.fraudulent).set_title('Real & Fradulent')\n",
    "data['fraudulent'].value_counts()"
   ]
  },
  {
   "cell_type": "code",
   "execution_count": 32,
   "metadata": {},
   "outputs": [
    {
     "data": {
      "text/plain": [
       "Text(0.5, 0, 'required_education')"
      ]
     },
     "execution_count": 32,
     "metadata": {},
     "output_type": "execute_result"
    },
    {
     "data": {
      "image/png": "[encoded data removed]",
      "text/plain": [
       "<Figure size 1800x1080 with 1 Axes>"
      ]
     },
     "metadata": {
      "needs_background": "light"
     },
     "output_type": "display_data"
    }
   ],
   "source": [
    "required_education  = dict(data.required_education.value_counts()[:10])\n",
    "plt.figure(figsize=(25,15))\n",
    "plt.title('frequency of required_education', size=20)\n",
    "plt.bar(required_education.keys(), required_education.values())\n",
    "plt.ylabel('frequency', size=20)\n",
    "plt.xlabel('required_education', size=20)"
   ]
  },
  {
   "cell_type": "code",
   "execution_count": 33,
   "metadata": {},
   "outputs": [
    {
     "data": {
      "text/plain": [
       "Text(0.5, 0, 'employment_type')"
      ]
     },
     "execution_count": 33,
     "metadata": {},
     "output_type": "execute_result"
    },
    {
     "data": {
      "image/png": "[encoded data removed]",
      "text/plain": [
       "<Figure size 1800x1080 with 1 Axes>"
      ]
     },
     "metadata": {
      "needs_background": "light"
     },
     "output_type": "display_data"
    }
   ],
   "source": [
    "employment_type  = dict(data.employment_type.value_counts()[:11])\n",
    "plt.figure(figsize=(25,15))\n",
    "plt.title('frequency of employment_type', size=20)\n",
    "plt.bar(employment_type.keys(), employment_type.values())\n",
    "plt.ylabel('frequency', size=20)\n",
    "plt.xlabel('employment_type', size=20)"
   ]
  },
  {
   "cell_type": "code",
   "execution_count": 34,
   "metadata": {},
   "outputs": [
    {
     "data": {
      "text/plain": [
       "Text(0.5, 0, 'required_experience')"
      ]
     },
     "execution_count": 34,
     "metadata": {},
     "output_type": "execute_result"
    },
    {
     "data": {
      "image/png": "[encoded data removed]",
      "text/plain": [
       "<Figure size 1800x1080 with 1 Axes>"
      ]
     },
     "metadata": {
      "needs_background": "light"
     },
     "output_type": "display_data"
    }
   ],
   "source": [
    "required_experience  = dict(data.required_experience.value_counts()[:11])\n",
    "plt.figure(figsize=(25,15))\n",
    "plt.title('frequency of required_experience', size=20)\n",
    "plt.bar(required_experience.keys(), required_experience .values())\n",
    "plt.ylabel('frequency', size=20)\n",
    "plt.xlabel('required_experience', size=20)"
   ]
  },
  {
   "cell_type": "code",
   "execution_count": 35,
   "metadata": {},
   "outputs": [
    {
     "data": {
      "text/plain": [
       "Text(0.5, 0, 'function')"
      ]
     },
     "execution_count": 35,
     "metadata": {},
     "output_type": "execute_result"
    },
    {
     "data": {
      "image/png": "[encoded data removed]",
      "text/plain": [
       "<Figure size 1800x1080 with 1 Axes>"
      ]
     },
     "metadata": {
      "needs_background": "light"
     },
     "output_type": "display_data"
    }
   ],
   "source": [
    "function = dict(data.function.value_counts()[:11])\n",
    "plt.figure(figsize=(25,15))\n",
    "plt.title('frequency of function', size=20)\n",
    "plt.bar(function.keys(), function .values())\n",
    "plt.ylabel('frequency', size=20)\n",
    "plt.xlabel('function', size=20)"
   ]
  },
  {
   "cell_type": "code",
   "execution_count": 36,
   "metadata": {},
   "outputs": [
    {
     "data": {
      "text/plain": [
       "Text(0.5, 0, 'industry')"
      ]
     },
     "execution_count": 36,
     "metadata": {},
     "output_type": "execute_result"
    },
    {
     "data": {
      "image/png": "[encoded data removed]",
      "text/plain": [
       "<Figure size 1800x1080 with 1 Axes>"
      ]
     },
     "metadata": {
      "needs_background": "light"
     },
     "output_type": "display_data"
    }
   ],
   "source": [
    "industry  = dict(data.industry.value_counts()[:11])\n",
    "plt.figure(figsize=(25,15))\n",
    "plt.title('frequency of industry', size=20)\n",
    "plt.bar(function.keys(), function.values())\n",
    "plt.ylabel('frequency', size=20)\n",
    "plt.xlabel('industry', size=20)"
   ]
  },
  {
   "cell_type": "code",
   "execution_count": 37,
   "metadata": {},
   "outputs": [
    {
     "data": {
      "text/plain": [
       "0    9088\n",
       "1    8792\n",
       "Name: has_questions, dtype: int64"
      ]
     },
     "execution_count": 37,
     "metadata": {},
     "output_type": "execute_result"
    },
    {
     "data": {
      "image/png": "[encoded data removed]",
      "text/plain": [
       "<Figure size 432x288 with 1 Axes>"
      ]
     },
     "metadata": {
      "needs_background": "light"
     },
     "output_type": "display_data"
    }
   ],
   "source": [
    "sns.countplot(data.has_questions).set_title('If there was an interview process or not')\n",
    "data['has_questions'].value_counts()"
   ]
  },
  {
   "cell_type": "code",
   "execution_count": 38,
   "metadata": {},
   "outputs": [
    {
     "data": {
      "text/plain": [
       "0    17113\n",
       "1      767\n",
       "Name: telecommuting, dtype: int64"
      ]
     },
     "execution_count": 38,
     "metadata": {},
     "output_type": "execute_result"
    },
    {
     "data": {
      "image/png": "[encoded data removed]",
      "text/plain": [
       "<Figure size 432x288 with 1 Axes>"
      ]
     },
     "metadata": {
      "needs_background": "light"
     },
     "output_type": "display_data"
    }
   ],
   "source": [
    "sns.countplot(data.telecommuting).set_title('If there was an communication process or not')\n",
    "data['telecommuting'].value_counts()"
   ]
  },
  {
   "cell_type": "code",
   "execution_count": 39,
   "metadata": {},
   "outputs": [
    {
     "data": {
      "text/plain": [
       "1    14220\n",
       "0     3660\n",
       "Name: has_company_logo, dtype: int64"
      ]
     },
     "execution_count": 39,
     "metadata": {},
     "output_type": "execute_result"
    },
    {
     "data": {
      "image/png": "[encoded data removed]",
      "text/plain": [
       "<Figure size 432x288 with 1 Axes>"
      ]
     },
     "metadata": {
      "needs_background": "light"
     },
     "output_type": "display_data"
    }
   ],
   "source": [
    "sns.countplot(data.has_company_logo).set_title('whether the company has_company_logo or not')\n",
    "data['has_company_logo'].value_counts()"
   ]
  },
  {
   "cell_type": "code",
   "execution_count": 40,
   "metadata": {},
   "outputs": [
    {
     "data": {
      "text/plain": [
       "<matplotlib.axes._subplots.AxesSubplot at 0x2e5bcbe1548>"
      ]
     },
     "execution_count": 40,
     "metadata": {},
     "output_type": "execute_result"
    },
    {
     "data": {
      "image/png": "[encoded data removed]",
      "text/plain": [
       "<Figure size 432x288 with 2 Axes>"
      ]
     },
     "metadata": {
      "needs_background": "light"
     },
     "output_type": "display_data"
    }
   ],
   "source": [
    "data.corr()\n",
    "sns.heatmap(data.corr())"
   ]
  },
  {
   "cell_type": "markdown",
   "metadata": {},
   "source": [
    "## Train_test_split"
   ]
  },
  {
   "cell_type": "code",
   "execution_count": 41,
   "metadata": {},
   "outputs": [
    {
     "data": {
      "text/plain": [
       "title                  object\n",
       "location               object\n",
       "department             object\n",
       "company_profile        object\n",
       "description            object\n",
       "requirements           object\n",
       "benefits               object\n",
       "telecommuting           int64\n",
       "has_company_logo        int64\n",
       "has_questions           int64\n",
       "employment_type        object\n",
       "required_experience    object\n",
       "required_education     object\n",
       "industry               object\n",
       "function               object\n",
       "fraudulent              int64\n",
       "dtype: object"
      ]
     },
     "execution_count": 41,
     "metadata": {},
     "output_type": "execute_result"
    }
   ],
   "source": [
    "data.dtypes"
   ]
  },
  {
   "cell_type": "code",
   "execution_count": 42,
   "metadata": {},
   "outputs": [],
   "source": [
    "data['job_description']=data['description'] + ' ' + data['location'] + ' ' + data['department'] + ' ' + data['company_profile'] + ' ' + data['description'] + ' ' + data['requirements'] + ' ' + data['benefits'] + ' ' + data['employment_type'] + ' ' + data['required_education'] + ' ' + data['industry'] + ' ' + data['function']+' '+data['title']"
   ]
  },
  {
   "cell_type": "code",
   "execution_count": 43,
   "metadata": {},
   "outputs": [],
   "source": [
    "x = data['job_description']\n",
    "y=data['fraudulent']"
   ]
  },
  {
   "cell_type": "code",
   "execution_count": 44,
   "metadata": {},
   "outputs": [],
   "source": [
    "from sklearn.model_selection import train_test_split\n",
    "x_train,x_test,y_train,y_test=train_test_split(x,y,test_size=0.2,random_state=2)"
   ]
  },
  {
   "cell_type": "code",
   "execution_count": 45,
   "metadata": {},
   "outputs": [
    {
     "name": "stdout",
     "output_type": "stream",
     "text": [
      "(14304,)\n",
      "(3576,)\n",
      "(14304,)\n",
      "(3576,)\n"
     ]
    }
   ],
   "source": [
    "print(x_train.shape)\n",
    "print(x_test.shape)\n",
    "print(y_train.shape)\n",
    "print(y_test.shape)"
   ]
  },
  {
   "cell_type": "code",
   "execution_count": 46,
   "metadata": {},
   "outputs": [],
   "source": [
    "from sklearn.feature_extraction.text import TfidfVectorizer\n",
    "tfidf=TfidfVectorizer()"
   ]
  },
  {
   "cell_type": "code",
   "execution_count": 47,
   "metadata": {},
   "outputs": [
    {
     "data": {
      "text/plain": [
       "<14304x93333 sparse matrix of type '<class 'numpy.float64'>'\n",
       "\twith 3172187 stored elements in Compressed Sparse Row format>"
      ]
     },
     "execution_count": 47,
     "metadata": {},
     "output_type": "execute_result"
    }
   ],
   "source": [
    "x_train_transformed=tfidf.fit_transform(x_train)\n",
    "x_train_transformed"
   ]
  },
  {
   "cell_type": "code",
   "execution_count": 48,
   "metadata": {},
   "outputs": [
    {
     "data": {
      "text/plain": [
       "<3576x93333 sparse matrix of type '<class 'numpy.float64'>'\n",
       "\twith 784269 stored elements in Compressed Sparse Row format>"
      ]
     },
     "execution_count": 48,
     "metadata": {},
     "output_type": "execute_result"
    }
   ],
   "source": [
    "x_test_transformed=tfidf.transform(x_test)\n",
    "x_test_transformed"
   ]
  },
  {
   "cell_type": "code",
   "execution_count": 49,
   "metadata": {
    "scrolled": false
   },
   "outputs": [
    {
     "data": {
      "text/plain": [
       "['00',\n",
       " '000',\n",
       " '0000',\n",
       " '0001pt',\n",
       " '0005',\n",
       " '000a',\n",
       " '000aed',\n",
       " '000applying',\n",
       " '000benefits',\n",
       " '000bonus',\n",
       " '000cash',\n",
       " '000commission',\n",
       " '000company',\n",
       " '000equity',\n",
       " '000full',\n",
       " '000gbp',\n",
       " '000generate',\n",
       " '000health',\n",
       " '000highly',\n",
       " '000hours',\n",
       " '000how',\n",
       " '000if',\n",
       " '000incentivised',\n",
       " '000k',\n",
       " '000location',\n",
       " '000medical',\n",
       " '000overview',\n",
       " '000plus',\n",
       " '000position',\n",
       " '000responsibilitiesyou',\n",
       " '000retailer',\n",
       " '000skill',\n",
       " '000term',\n",
       " '000type',\n",
       " '000uncapped',\n",
       " '000victor',\n",
       " '000working',\n",
       " '001',\n",
       " '001ba',\n",
       " '002pm',\n",
       " '003',\n",
       " '004contact',\n",
       " '005',\n",
       " '00592duration',\n",
       " '006',\n",
       " '0062834',\n",
       " '0062953',\n",
       " '008',\n",
       " '00a',\n",
       " '00am',\n",
       " '00benefits',\n",
       " '00commission',\n",
       " '00duration',\n",
       " '00pay',\n",
       " '00pdental',\n",
       " '00please',\n",
       " '00pm',\n",
       " '00pmcomfortable',\n",
       " '00pmfriday',\n",
       " '00pmjoin',\n",
       " '00pmlocation',\n",
       " '00pmmust',\n",
       " '00pmoverall',\n",
       " '00pmsaturday',\n",
       " '00pmstarting',\n",
       " '00pmsunday',\n",
       " '00pmtechnical',\n",
       " '00pmthursday',\n",
       " '00pmwednesday',\n",
       " '00pmweekend',\n",
       " '00pmwhere',\n",
       " '00ppay',\n",
       " '00salary',\n",
       " '00saturdays',\n",
       " '00start',\n",
       " '00type',\n",
       " '01',\n",
       " '011',\n",
       " '01252',\n",
       " '01256',\n",
       " '014',\n",
       " '01606phone',\n",
       " '01752',\n",
       " '01761',\n",
       " '01858965',\n",
       " '01924',\n",
       " '02',\n",
       " '02061',\n",
       " '0206e',\n",
       " '02139',\n",
       " '0245',\n",
       " '0294',\n",
       " '03',\n",
       " '0309',\n",
       " '0381interview',\n",
       " '04',\n",
       " '040',\n",
       " '0400',\n",
       " '0402',\n",
       " '04102',\n",
       " '0415',\n",
       " '044',\n",
       " '0493to',\n",
       " '05',\n",
       " '06',\n",
       " '062913',\n",
       " '0679',\n",
       " '06f',\n",
       " '07',\n",
       " '07094',\n",
       " '07568',\n",
       " '07604company',\n",
       " '07748duration',\n",
       " '07749',\n",
       " '078',\n",
       " '07880',\n",
       " '08',\n",
       " '080',\n",
       " '0800',\n",
       " '080631',\n",
       " '0822r',\n",
       " '08520let',\n",
       " '08542',\n",
       " '086',\n",
       " '08840',\n",
       " '08854',\n",
       " '09',\n",
       " '098',\n",
       " '0amazing',\n",
       " '0bwlqghjsvg7aujzlyzvjd1liqke',\n",
       " '0cm',\n",
       " '0data',\n",
       " '0days',\n",
       " '0delivery',\n",
       " '0dq',\n",
       " '0e11200093d4b79c99574dd8af67',\n",
       " '0experience',\n",
       " '0in',\n",
       " '0knowledge',\n",
       " '0location',\n",
       " '0pt',\n",
       " '0rg',\n",
       " '0tz',\n",
       " '10',\n",
       " '100',\n",
       " '1000',\n",
       " '10000',\n",
       " '100000',\n",
       " '10004',\n",
       " '10006',\n",
       " '1000compensation',\n",
       " '1000m',\n",
       " '1000mbs',\n",
       " '1000s',\n",
       " '1000th',\n",
       " '10010',\n",
       " '100a',\n",
       " '100gbe',\n",
       " '100k',\n",
       " '100kloc',\n",
       " '100ksrelocation',\n",
       " '100m',\n",
       " '100mentors',\n",
       " '100mm',\n",
       " '100s',\n",
       " '100th',\n",
       " '101',\n",
       " '10173',\n",
       " '102',\n",
       " '102nd',\n",
       " '104',\n",
       " '104th',\n",
       " '105',\n",
       " '105winter',\n",
       " '106',\n",
       " '1060',\n",
       " '107',\n",
       " '1080',\n",
       " '109',\n",
       " '10969',\n",
       " '1098t',\n",
       " '1099',\n",
       " '1099assist',\n",
       " '1099s',\n",
       " '1099sassist',\n",
       " '1099smaintain',\n",
       " '10a',\n",
       " '10am',\n",
       " '10best',\n",
       " '10clouds',\n",
       " '10complete',\n",
       " '10e',\n",
       " '10g',\n",
       " '10gbe',\n",
       " '10gbps',\n",
       " '10gig',\n",
       " '10industry',\n",
       " '10k',\n",
       " '10m',\n",
       " '10pm',\n",
       " '10q',\n",
       " '10s',\n",
       " '10th',\n",
       " '10x',\n",
       " '11',\n",
       " '110',\n",
       " '1100',\n",
       " '110020',\n",
       " '1105philadelphia',\n",
       " '110k',\n",
       " '111',\n",
       " '1110',\n",
       " '1118',\n",
       " '11255',\n",
       " '1136',\n",
       " '1140',\n",
       " '1147',\n",
       " '114experienced',\n",
       " '115',\n",
       " '115k',\n",
       " '116experienced',\n",
       " '11753about',\n",
       " '118',\n",
       " '119',\n",
       " '119experienced',\n",
       " '11a',\n",
       " '11am',\n",
       " '11excellent',\n",
       " '11g',\n",
       " '11g4',\n",
       " '11gr2',\n",
       " '11gr25',\n",
       " '11gretl7',\n",
       " '11hrno',\n",
       " '11i',\n",
       " '11k',\n",
       " '11m',\n",
       " '11no',\n",
       " '11pm',\n",
       " '11previous',\n",
       " '11req',\n",
       " '11th',\n",
       " '11x',\n",
       " '11συν_10_1205',\n",
       " '11월',\n",
       " '12',\n",
       " '120',\n",
       " '1200',\n",
       " '12000',\n",
       " '120k',\n",
       " '121',\n",
       " '1212',\n",
       " '1217zspecialties',\n",
       " '121s',\n",
       " '122',\n",
       " '12206',\n",
       " '122100',\n",
       " '12219',\n",
       " '122nd',\n",
       " '124',\n",
       " '125',\n",
       " '1250',\n",
       " '1258_fbo',\n",
       " '125k',\n",
       " '125kbrief',\n",
       " '125m',\n",
       " '1275',\n",
       " '12am',\n",
       " '12h00',\n",
       " '12hr',\n",
       " '12m',\n",
       " '12mth',\n",
       " '12pm',\n",
       " '12th',\n",
       " '12월',\n",
       " '13',\n",
       " '130',\n",
       " '1300',\n",
       " '13000',\n",
       " '130k',\n",
       " '130kmed',\n",
       " '130m',\n",
       " '1318232t1',\n",
       " '131job',\n",
       " '132',\n",
       " '1323',\n",
       " '132job',\n",
       " '133321',\n",
       " '1337',\n",
       " '134',\n",
       " '1340',\n",
       " '13485',\n",
       " '135',\n",
       " '135000',\n",
       " '135k',\n",
       " '136',\n",
       " '138kv',\n",
       " '139',\n",
       " '13k',\n",
       " '13kv',\n",
       " '13m',\n",
       " '13th',\n",
       " '13wk',\n",
       " '13ο',\n",
       " '14',\n",
       " '140',\n",
       " '1400',\n",
       " '14000',\n",
       " '14000000h3descriptionma',\n",
       " '14000us1',\n",
       " '14001',\n",
       " '1402',\n",
       " '140k',\n",
       " '140m',\n",
       " '141',\n",
       " '141job',\n",
       " '1428',\n",
       " '143',\n",
       " '144',\n",
       " '14400833oggcore_11',\n",
       " '145',\n",
       " '145b',\n",
       " '145k',\n",
       " '146',\n",
       " '147job',\n",
       " '148',\n",
       " '14870',\n",
       " '149',\n",
       " '14971',\n",
       " '14971prior',\n",
       " '14apply',\n",
       " '14end',\n",
       " '14hotel',\n",
       " '14kgroup',\n",
       " '14location',\n",
       " '14m',\n",
       " '14q',\n",
       " '14responsibilities',\n",
       " '14th',\n",
       " '14일',\n",
       " '15',\n",
       " '150',\n",
       " '1500',\n",
       " '15000',\n",
       " '1500kw',\n",
       " '1501',\n",
       " '1502',\n",
       " '150hmi',\n",
       " '150k',\n",
       " '150klocation',\n",
       " '150m',\n",
       " '150mm',\n",
       " '1510',\n",
       " '15124',\n",
       " '152',\n",
       " '15233',\n",
       " '153job',\n",
       " '155',\n",
       " '1550',\n",
       " '155000',\n",
       " '155job',\n",
       " '156000',\n",
       " '156k',\n",
       " '158',\n",
       " '158987',\n",
       " '159',\n",
       " '159job',\n",
       " '15am',\n",
       " '15hr',\n",
       " '15k',\n",
       " '15kv',\n",
       " '15lbs',\n",
       " '15location',\n",
       " '15m',\n",
       " '15mb',\n",
       " '15min',\n",
       " '15mins',\n",
       " '15must',\n",
       " '15qualification',\n",
       " '15th',\n",
       " '16',\n",
       " '160',\n",
       " '1600',\n",
       " '16000',\n",
       " '160k',\n",
       " '160th',\n",
       " '161',\n",
       " '162',\n",
       " '162job',\n",
       " '164',\n",
       " '165',\n",
       " '165000',\n",
       " '166job',\n",
       " '1688',\n",
       " '16949',\n",
       " '16hrs',\n",
       " '16k',\n",
       " '16th',\n",
       " '17',\n",
       " '170',\n",
       " '1700',\n",
       " '1700pm',\n",
       " '170k',\n",
       " '172',\n",
       " '174job',\n",
       " '175',\n",
       " '1750',\n",
       " '176',\n",
       " '176job',\n",
       " '177',\n",
       " '17799',\n",
       " '1781',\n",
       " '1781job',\n",
       " '17hrs',\n",
       " '17k',\n",
       " '17th',\n",
       " '18',\n",
       " '180',\n",
       " '1800',\n",
       " '18001',\n",
       " '1800s',\n",
       " '18031',\n",
       " '1809',\n",
       " '180k',\n",
       " '180kif',\n",
       " '180kthis',\n",
       " '181',\n",
       " '1810',\n",
       " '1819',\n",
       " '181job',\n",
       " '182',\n",
       " '1825',\n",
       " '183',\n",
       " '1835',\n",
       " '1842',\n",
       " '1843',\n",
       " '1843job',\n",
       " '185',\n",
       " '1852',\n",
       " '1853',\n",
       " '1857',\n",
       " '186',\n",
       " '1861',\n",
       " '1866',\n",
       " '186job',\n",
       " '1871',\n",
       " '1873',\n",
       " '187job',\n",
       " '1884',\n",
       " '1892',\n",
       " '1897',\n",
       " '189job',\n",
       " '18hr',\n",
       " '18k',\n",
       " '18kcommission',\n",
       " '18m',\n",
       " '18s',\n",
       " '18th',\n",
       " '18yrs',\n",
       " '19',\n",
       " '190',\n",
       " '1901',\n",
       " '1902',\n",
       " '1905',\n",
       " '190job',\n",
       " '1910',\n",
       " '19103',\n",
       " '191236br',\n",
       " '1916',\n",
       " '191job',\n",
       " '192',\n",
       " '1923',\n",
       " '1926',\n",
       " '1926experience',\n",
       " '1928',\n",
       " '1929',\n",
       " '1930',\n",
       " '1930s',\n",
       " '1940',\n",
       " '1943',\n",
       " '1946',\n",
       " '1949',\n",
       " '1950',\n",
       " '1951',\n",
       " '19512',\n",
       " '1955',\n",
       " '1956',\n",
       " '1957',\n",
       " '1958',\n",
       " '1959',\n",
       " '195k',\n",
       " '1960',\n",
       " '1960s',\n",
       " '1963',\n",
       " '1964',\n",
       " '1965',\n",
       " '1970',\n",
       " '1970job',\n",
       " '1971',\n",
       " '1972',\n",
       " '1973',\n",
       " '1974',\n",
       " '1975',\n",
       " '1976',\n",
       " '1977',\n",
       " '1978',\n",
       " '1978our',\n",
       " '1979',\n",
       " '1980',\n",
       " '1980s',\n",
       " '1981',\n",
       " '1982',\n",
       " '1983',\n",
       " '1984',\n",
       " '1985',\n",
       " '1985corporate',\n",
       " '1986',\n",
       " '1987',\n",
       " '1988',\n",
       " '1989',\n",
       " '1990',\n",
       " '1990s',\n",
       " '1991',\n",
       " '1992',\n",
       " '1993',\n",
       " '1994',\n",
       " '1995',\n",
       " '1996',\n",
       " '1997',\n",
       " '1998',\n",
       " '1999',\n",
       " '19k',\n",
       " '19th',\n",
       " '1a',\n",
       " '1about',\n",
       " '1ah',\n",
       " '1am',\n",
       " '1an',\n",
       " '1b',\n",
       " '1benefits',\n",
       " '1bfort',\n",
       " '1bn',\n",
       " '1bt',\n",
       " '1dd',\n",
       " '1details',\n",
       " '1dt',\n",
       " '1ep',\n",
       " '1g',\n",
       " '1gb',\n",
       " '1gbaset',\n",
       " '1gig',\n",
       " '1gq',\n",
       " '1jr',\n",
       " '1k',\n",
       " '1la',\n",
       " '1laivgbour',\n",
       " '1lead',\n",
       " '1location',\n",
       " '1m',\n",
       " '1months',\n",
       " '1ny',\n",
       " '1p',\n",
       " '1pb',\n",
       " '1pm',\n",
       " '1position',\n",
       " '1previous',\n",
       " '1q',\n",
       " '1ruby',\n",
       " '1s',\n",
       " '1st',\n",
       " '1strong',\n",
       " '1stthere',\n",
       " '1tb',\n",
       " '1the',\n",
       " '1this',\n",
       " '1very',\n",
       " '1work',\n",
       " '1x',\n",
       " '1x1',\n",
       " '1xa',\n",
       " '1y',\n",
       " '1year',\n",
       " '1years',\n",
       " '1your',\n",
       " '1yr',\n",
       " '1일',\n",
       " '20',\n",
       " '200',\n",
       " '2000',\n",
       " '200000',\n",
       " '2000bs',\n",
       " '2001',\n",
       " '2002',\n",
       " '2003',\n",
       " '2003degree',\n",
       " '2003microsoft',\n",
       " '2003proficient',\n",
       " '2004',\n",
       " '2005',\n",
       " '2005css',\n",
       " '2005location',\n",
       " '2005requirements',\n",
       " '2006',\n",
       " '2007',\n",
       " '2008',\n",
       " '2008experience',\n",
       " '2008html',\n",
       " '2008juniper',\n",
       " '2008nice',\n",
       " '2008prefer',\n",
       " '2008r',\n",
       " '2008r2',\n",
       " '2008safety',\n",
       " '2008serverrelevant',\n",
       " '2008sql',\n",
       " '2008vs',\n",
       " '2009',\n",
       " '2009incentives',\n",
       " '200experience',\n",
       " '200k',\n",
       " '200khighly',\n",
       " '200m',\n",
       " '200s',\n",
       " '200t',\n",
       " '200만',\n",
       " '201',\n",
       " '2010',\n",
       " '20103',\n",
       " '2010collaborate',\n",
       " '2010experience',\n",
       " '2010javascript',\n",
       " '2010visual',\n",
       " '2011',\n",
       " '2012',\n",
       " '20121',\n",
       " '20122',\n",
       " '2012active',\n",
       " '2012iis',\n",
       " '2012microsoft',\n",
       " '2012must',\n",
       " '2012mvc',\n",
       " '2012personal',\n",
       " '2012prefer',\n",
       " '2012process',\n",
       " '2012sharepoint',\n",
       " '2012some',\n",
       " '2012sqlhtml',\n",
       " '2012ssis',\n",
       " '2012the',\n",
       " '2012virtualization',\n",
       " '2012web',\n",
       " '2013',\n",
       " '20131101',\n",
       " '201330',\n",
       " '2013c',\n",
       " '2013end',\n",
       " '2013experience',\n",
       " '2013gitms',\n",
       " '2013implement',\n",
       " '2013international',\n",
       " '2013interview',\n",
       " '2013introduction',\n",
       " '2013linux',\n",
       " '2013microsoft',\n",
       " '2013must',\n",
       " '2013occasionally',\n",
       " '2013opportunities',\n",
       " '2013reports',\n",
       " '2013sharepoint',\n",
       " '2013sqlnetwork',\n",
       " '2013top',\n",
       " '2013training',\n",
       " '2013what',\n",
       " '2013windows',\n",
       " '2013work',\n",
       " '2013年にはソフトバンクベンチャーズコリアから投資を受けました',\n",
       " '2014',\n",
       " '20140308',\n",
       " '2014be',\n",
       " '2014community',\n",
       " '2014competitive',\n",
       " '2014contact',\n",
       " '2014description',\n",
       " '2014directorship',\n",
       " '2014duration',\n",
       " '2014education',\n",
       " '2014end',\n",
       " '2014hard',\n",
       " '2014have',\n",
       " '2014help',\n",
       " '2014kickstart',\n",
       " '2014learn',\n",
       " '2014location',\n",
       " '2014please',\n",
       " '2014position',\n",
       " '2014posting',\n",
       " '2014pure',\n",
       " '2014rate',\n",
       " '2014reliable',\n",
       " '2014responsibilities',\n",
       " '2014ryanair',\n",
       " '2014summary',\n",
       " '2014the',\n",
       " '2014this',\n",
       " '2014time',\n",
       " '2014tracey',\n",
       " '2014usage',\n",
       " '2014wages',\n",
       " '2014we',\n",
       " '2014where',\n",
       " '2014who',\n",
       " '2014willing',\n",
       " '2014work',\n",
       " '2014년',\n",
       " '2015',\n",
       " '2015christmas',\n",
       " '2015creating',\n",
       " '2015delivery',\n",
       " '2015e',\n",
       " '2015location',\n",
       " '2015position',\n",
       " '2015technical',\n",
       " '2015the',\n",
       " '2015this',\n",
       " '2015to',\n",
       " '2015we',\n",
       " '2016',\n",
       " '2016participate',\n",
       " '2017',\n",
       " '20170',\n",
       " '20170duration',\n",
       " '2018',\n",
       " '2018job',\n",
       " '202',\n",
       " '2020',\n",
       " '2020experience',\n",
       " '2020job',\n",
       " '2022',\n",
       " '2022job',\n",
       " '2024',\n",
       " '2025',\n",
       " '203worcester',\n",
       " '2048',\n",
       " '2048job',\n",
       " '205',\n",
       " '2053',\n",
       " '2053job',\n",
       " '207',\n",
       " '2071',\n",
       " '20850direct',\n",
       " '20850ph',\n",
       " '20855',\n",
       " '20b',\n",
       " '20f',\n",
       " '20h',\n",
       " '20hr',\n",
       " '20hrs',\n",
       " '20k',\n",
       " '20m',\n",
       " '20million',\n",
       " '20mm',\n",
       " '20nm',\n",
       " '20tb',\n",
       " '20th',\n",
       " '20x',\n",
       " '20명의',\n",
       " '21',\n",
       " '210',\n",
       " '21093',\n",
       " '211',\n",
       " '21244',\n",
       " '2129',\n",
       " '2131',\n",
       " '2131job',\n",
       " '2132job',\n",
       " '214',\n",
       " '2141',\n",
       " '2141job',\n",
       " '2168',\n",
       " '2168job',\n",
       " '217',\n",
       " '2175',\n",
       " '2175job',\n",
       " '2176',\n",
       " '2176job',\n",
       " '2177',\n",
       " '2177job',\n",
       " '2178',\n",
       " '2178job',\n",
       " '21m',\n",
       " '21st',\n",
       " '21yrs',\n",
       " '21ys',\n",
       " '22',\n",
       " '220',\n",
       " '2200',\n",
       " '22000',\n",
       " '222',\n",
       " '225',\n",
       " '2255',\n",
       " '22554we',\n",
       " '225k',\n",
       " '2275',\n",
       " '22k',\n",
       " '22khigh',\n",
       " '22m',\n",
       " '23',\n",
       " '230',\n",
       " '2300',\n",
       " '230kv',\n",
       " '231',\n",
       " '23185',\n",
       " '232',\n",
       " '233',\n",
       " '234',\n",
       " '23454930',\n",
       " '23464',\n",
       " '23464attn',\n",
       " '23464our',\n",
       " '234job',\n",
       " '235',\n",
       " '2350',\n",
       " '235job',\n",
       " '236',\n",
       " '237',\n",
       " '238',\n",
       " '238job',\n",
       " '23970hiltonhampton',\n",
       " '23b',\n",
       " '23hr',\n",
       " '23k',\n",
       " '23rd',\n",
       " '23ο',\n",
       " '24',\n",
       " '240',\n",
       " '2400',\n",
       " '2420',\n",
       " '244job',\n",
       " '2459',\n",
       " '247job',\n",
       " '249',\n",
       " '24hrs',\n",
       " '24job',\n",
       " '24k',\n",
       " '24media',\n",
       " '24ph',\n",
       " '24s',\n",
       " '24th',\n",
       " '24x7',\n",
       " '24x7elaborate',\n",
       " '24x7x365',\n",
       " '25',\n",
       " '250',\n",
       " '2500',\n",
       " '25000',\n",
       " '250euros',\n",
       " '250job',\n",
       " '250k',\n",
       " '250m',\n",
       " '252',\n",
       " '253',\n",
       " '254',\n",
       " '254job',\n",
       " '255',\n",
       " '256',\n",
       " '2562',\n",
       " '257',\n",
       " '258',\n",
       " '258job',\n",
       " '25hours',\n",
       " '25in',\n",
       " '25k',\n",
       " '25lbs',\n",
       " '25m',\n",
       " '25th',\n",
       " '26',\n",
       " '260',\n",
       " '2600',\n",
       " '2624',\n",
       " '264',\n",
       " '265',\n",
       " '266',\n",
       " '267job',\n",
       " '268job',\n",
       " '26job',\n",
       " '26k',\n",
       " '26m',\n",
       " '26th',\n",
       " '27',\n",
       " '270',\n",
       " '27001',\n",
       " '27002',\n",
       " '2700d',\n",
       " '270job',\n",
       " '271',\n",
       " '272',\n",
       " '272job',\n",
       " '2750',\n",
       " '27560',\n",
       " '276',\n",
       " '2773',\n",
       " '278',\n",
       " '27k',\n",
       " '27th',\n",
       " '28',\n",
       " '280',\n",
       " '281',\n",
       " '28113640',\n",
       " '282',\n",
       " '28202',\n",
       " '2824',\n",
       " '285',\n",
       " '287',\n",
       " '2873',\n",
       " '289',\n",
       " '28car',\n",
       " '28k',\n",
       " '28k25',\n",
       " '28nm',\n",
       " '28th',\n",
       " '29',\n",
       " '2900',\n",
       " '2907',\n",
       " '2907to',\n",
       " '2941',\n",
       " '296',\n",
       " '298',\n",
       " '299',\n",
       " '29906full',\n",
       " '29927553',\n",
       " '29country',\n",
       " '29dpd',\n",
       " '29k',\n",
       " '29th',\n",
       " '2am',\n",
       " '2as',\n",
       " '2b05',\n",
       " '2c',\n",
       " '2clear',\n",
       " '2d',\n",
       " '2days',\n",
       " '2dx',\n",
       " '2e',\n",
       " '2ee',\n",
       " '2ej',\n",
       " '2experience',\n",
       " '2g',\n",
       " '2gh',\n",
       " '2gig',\n",
       " '2h',\n",
       " '2have',\n",
       " '2html',\n",
       " '2hy',\n",
       " '2ic',\n",
       " '2ideally',\n",
       " '2javascript',\n",
       " '2k',\n",
       " '2location',\n",
       " '2m',\n",
       " '2mb',\n",
       " '2mil',\n",
       " '2months',\n",
       " '2mrolodex',\n",
       " '2mysqlrestful',\n",
       " '2nd',\n",
       " '2of',\n",
       " '2off',\n",
       " '2opengles',\n",
       " '2oracleno',\n",
       " '2p',\n",
       " '2pm',\n",
       " '2pmapplicants',\n",
       " '2pmmonday',\n",
       " '2proven',\n",
       " '2required',\n",
       " '2ruby',\n",
       " '2software',\n",
       " '2strong',\n",
       " '2up',\n",
       " '2vsxug4csy8',\n",
       " '2x',\n",
       " '2you',\n",
       " '2yrs',\n",
       " '2½',\n",
       " '2년',\n",
       " '30',\n",
       " '300',\n",
       " '3000',\n",
       " '30000',\n",
       " '300k',\n",
       " '300m',\n",
       " '300please',\n",
       " '301',\n",
       " '301princeton',\n",
       " '302',\n",
       " '303',\n",
       " '30303',\n",
       " '304',\n",
       " '305',\n",
       " '30517',\n",
       " ...]"
      ]
     },
     "execution_count": 49,
     "metadata": {},
     "output_type": "execute_result"
    }
   ],
   "source": [
    "tfidf.get_feature_names()"
   ]
  },
  {
   "cell_type": "code",
   "execution_count": 50,
   "metadata": {},
   "outputs": [
    {
     "data": {
      "text/plain": [
       "{'the': 80803,\n",
       " 'job': 41745,\n",
       " 'is': 40917,\n",
       " 'to': 81720,\n",
       " 'support': 77702,\n",
       " 'growth': 35070,\n",
       " 'of': 52479,\n",
       " 'url_9f35c886234b8e939f5403fd12ad24821ba485aee59d1581c7a35be587faa504': 85382,\n",
       " 'marketplace': 46986,\n",
       " 'project': 62334,\n",
       " 'this': 81126,\n",
       " 'will': 88761,\n",
       " 'involve': 40732,\n",
       " 'liaison': 44231,\n",
       " 'with': 88935,\n",
       " 'vendors': 86783,\n",
       " 'administration': 3334,\n",
       " 'website': 88198,\n",
       " 'designers': 21735,\n",
       " 'interfacing': 40260,\n",
       " 'between': 9736,\n",
       " 'accounts': 2540,\n",
       " 'and': 5094,\n",
       " 'clients': 14468,\n",
       " 'generally': 33875,\n",
       " 'troubleshooting': 83074,\n",
       " 'various': 86656,\n",
       " 'systems': 78296,\n",
       " 'involved': 40733,\n",
       " 'in': 38301,\n",
       " 'running': 69312,\n",
       " 'an': 4804,\n",
       " 'internet': 40334,\n",
       " 'successful': 77188,\n",
       " 'candidate': 12220,\n",
       " 'be': 9126,\n",
       " 'someone': 74430,\n",
       " 'who': 88664,\n",
       " 'interesting': 40202,\n",
       " 'marketing': 46850,\n",
       " 'would': 89572,\n",
       " 'like': 44462,\n",
       " 'grow': 35036,\n",
       " 'into': 40504,\n",
       " 'bigger': 9842,\n",
       " 'role': 68803,\n",
       " 'within': 88962,\n",
       " 'company': 15948,\n",
       " 'gb': 33751,\n",
       " 'war': 87853,\n",
       " 'coventry': 18326,\n",
       " 'renewable': 65932,\n",
       " 'energy': 26779,\n",
       " 'environmental': 27506,\n",
       " 'protection': 62973,\n",
       " 'equipment': 28041,\n",
       " 'computer': 16576,\n",
       " 'literateable': 44743,\n",
       " 'work': 89127,\n",
       " 'html': 37145,\n",
       " 'although': 4608,\n",
       " 'coding': 15131,\n",
       " 'skills': 72887,\n",
       " 'not': 51823,\n",
       " 'requirementsuitably': 67036,\n",
       " 'qualifiedenthusiastic': 63807,\n",
       " 'imaginative': 37899,\n",
       " 'for': 32351,\n",
       " 'suitably': 77309,\n",
       " 'motivated': 49845,\n",
       " 'success': 77156,\n",
       " 'orientated': 54256,\n",
       " 'person': 56721,\n",
       " 'there': 80967,\n",
       " 'possibility': 59335,\n",
       " 'from': 33112,\n",
       " 'where': 88606,\n",
       " 'ever': 29007,\n",
       " 'convenient': 17778,\n",
       " 'full': 33209,\n",
       " 'time': 81370,\n",
       " 'bachelor': 8416,\n",
       " 'degree': 20747,\n",
       " 'administrator': 3417,\n",
       " 'atcom': 7479,\n",
       " 'leading': 43623,\n",
       " 'web': 88091,\n",
       " 'agency': 4008,\n",
       " 'greece': 34836,\n",
       " 'lengthy': 43981,\n",
       " 'portfolio': 59089,\n",
       " 'extensive': 30505,\n",
       " 'technical': 79765,\n",
       " 'know': 42624,\n",
       " 'how': 37066,\n",
       " 'looking': 45109,\n",
       " 'junior': 42141,\n",
       " 'account': 2416,\n",
       " 'manager': 46220,\n",
       " 'very': 87015,\n",
       " 'good': 34542,\n",
       " 'management': 45869,\n",
       " 'join': 41855,\n",
       " 'its': 41287,\n",
       " 'client': 14411,\n",
       " 'service': 71400,\n",
       " 'department': 21247,\n",
       " 'ideal': 37515,\n",
       " 'talented': 78738,\n",
       " 'individual': 38709,\n",
       " 'passion': 55779,\n",
       " 'digital': 23126,\n",
       " 'manage': 45854,\n",
       " 'teams': 79500,\n",
       " 'amp': 4769,\n",
       " 'deliver': 20906,\n",
       " 'amazing': 4646,\n",
       " 'our': 54594,\n",
       " 'he': 35943,\n",
       " 'she': 72052,\n",
       " 'must': 50239,\n",
       " 'have': 35822,\n",
       " 'organizational': 54087,\n",
       " 'participation': 55563,\n",
       " 'wide': 88701,\n",
       " 'range': 64403,\n",
       " 'projects': 62403,\n",
       " 'challenges': 13393,\n",
       " 'years': 90013,\n",
       " 'experience': 29633,\n",
       " 'interactive': 40148,\n",
       " 'preferable': 59914,\n",
       " 'but': 11654,\n",
       " 'essential': 28419,\n",
       " 'by': 11706,\n",
       " 'joining': 41861,\n",
       " 'you': 90150,\n",
       " 'opportunity': 53648,\n",
       " 'on': 53005,\n",
       " 'unique': 83901,\n",
       " 'including': 38443,\n",
       " 'campaign': 12038,\n",
       " 'sites': 72694,\n",
       " 'portals': 59081,\n",
       " 'shops': 72227,\n",
       " 'social': 73844,\n",
       " 'mobile': 49194,\n",
       " 'applications': 5793,\n",
       " 'some': 74424,\n",
       " 'largest': 43305,\n",
       " 'greek': 34846,\n",
       " 'market': 46800,\n",
       " 'gr': 34649,\n",
       " 'athens': 7492,\n",
       " 'sales': 69602,\n",
       " 'world': 89488,\n",
       " 'class': 14254,\n",
       " 'software': 73914,\n",
       " 'vendor': 86777,\n",
       " 'smart': 73658,\n",
       " 'content': 17420,\n",
       " 'products': 61586,\n",
       " 'intelligent': 40091,\n",
       " 'media': 47670,\n",
       " 'solutions': 74155,\n",
       " 'based': 8855,\n",
       " 'offices': 52729,\n",
       " 'also': 4584,\n",
       " 'has': 35781,\n",
       " 'successfully': 77193,\n",
       " 'completed': 16354,\n",
       " 'more': 49736,\n",
       " 'than': 80782,\n",
       " '1800': 418,\n",
       " 'large': 43297,\n",
       " 'scale': 70087,\n",
       " 'productions': 61515,\n",
       " 'all': 4444,\n",
       " 'powered': 59550,\n",
       " 'multi': 50119,\n",
       " 'awarded': 8259,\n",
       " 'netvolution': 51294,\n",
       " 'wcms': 88049,\n",
       " 'employs': 26607,\n",
       " '120': 246,\n",
       " 'people': 56301,\n",
       " 'desired': 21979,\n",
       " 'experienceclient': 29727,\n",
       " 'communicationmanage': 15691,\n",
       " 'day': 20103,\n",
       " 'interaction': 40124,\n",
       " 'set': 71781,\n",
       " 'expectations': 29512,\n",
       " 'communicate': 15641,\n",
       " 'effectively': 25488,\n",
       " 'identify': 37636,\n",
       " 'needs': 51020,\n",
       " 'evaluate': 28826,\n",
       " 'alternative': 4601,\n",
       " 'business': 11457,\n",
       " 'continually': 17522,\n",
       " 'seeks': 70999,\n",
       " 'opportunities': 53520,\n",
       " 'increase': 38504,\n",
       " 'customer': 19264,\n",
       " 'satisfaction': 69925,\n",
       " 'deepen': 20662,\n",
       " 'relationships': 65585,\n",
       " 'engaging': 26856,\n",
       " 'informative': 39116,\n",
       " 'well': 88452,\n",
       " 'organized': 54198,\n",
       " 'presentations': 60310,\n",
       " 'optional': 53804,\n",
       " 'managementbe': 45913,\n",
       " 'able': 2137,\n",
       " 'create': 18535,\n",
       " 'execute': 29303,\n",
       " 'plans': 57917,\n",
       " 'revise': 68329,\n",
       " 'as': 6936,\n",
       " 'appropriate': 6188,\n",
       " 'meet': 47832,\n",
       " 'changing': 13524,\n",
       " 'requirements': 66785,\n",
       " 'operational': 53334,\n",
       " 'aspects': 7041,\n",
       " 'scope': 70498,\n",
       " 'review': 68251,\n",
       " 'deliverables': 20912,\n",
       " 'prepared': 60225,\n",
       " 'team': 79201,\n",
       " 'before': 9234,\n",
       " 'passing': 55778,\n",
       " 'track': 82297,\n",
       " 'report': 66046,\n",
       " 'hours': 36926,\n",
       " 'expenses': 29603,\n",
       " 'weekly': 88364,\n",
       " 'basis': 8939,\n",
       " 'determine': 22293,\n",
       " 'revenue': 68214,\n",
       " 'recognition': 64786,\n",
       " 'ensure': 27275,\n",
       " 'timely': 81496,\n",
       " 'accurate': 2727,\n",
       " 'invoicing': 40718,\n",
       " 'monitor': 49523,\n",
       " 'receivables': 64714,\n",
       " 'development': 22448,\n",
       " 'add': 3209,\n",
       " 'they': 81008,\n",
       " 'relate': 65533,\n",
       " 'specific': 74827,\n",
       " 'understandingpossess': 83782,\n",
       " 'general': 33866,\n",
       " 'understanding': 83767,\n",
       " 'areas': 6641,\n",
       " 'design': 21648,\n",
       " 'authoring': 8009,\n",
       " 'are': 6592,\n",
       " 'integrated': 39963,\n",
       " 'order': 53931,\n",
       " 'wireframes': 88891,\n",
       " 'flowcharts': 32064,\n",
       " 'possess': 59324,\n",
       " 'thorough': 81152,\n",
       " 'capabilities': 12347,\n",
       " 'terms': 80438,\n",
       " 'strategy': 76540,\n",
       " 'planning': 57823,\n",
       " 'search': 70792,\n",
       " 'maintain': 45635,\n",
       " 'awareness': 8271,\n",
       " 'new': 51409,\n",
       " 'emerging': 26426,\n",
       " 'technologies': 79878,\n",
       " 'potential': 59469,\n",
       " 'application': 5755,\n",
       " 'engagements': 26831,\n",
       " 'personal': 56741,\n",
       " 'skillsinspire': 73191,\n",
       " 'co': 14931,\n",
       " 'workers': 89208,\n",
       " 'attain': 7577,\n",
       " 'goals': 34386,\n",
       " 'pursue': 63484,\n",
       " 'excellence': 29176,\n",
       " 'motivate': 49843,\n",
       " 'together': 81784,\n",
       " 'most': 49827,\n",
       " 'efficient': 25610,\n",
       " 'manner': 46506,\n",
       " 'keep': 42316,\n",
       " 'lessons': 44016,\n",
       " 'learned': 43729,\n",
       " 'share': 71994,\n",
       " 'those': 81162,\n",
       " 'members': 47976,\n",
       " 'fast': 30962,\n",
       " 'paced': 55057,\n",
       " 'environment': 27485,\n",
       " 'multiple': 50156,\n",
       " 'copywriters': 17975,\n",
       " 'analysts': 4986,\n",
       " 'developers': 22374,\n",
       " 'see': 70982,\n",
       " 'description': 21491,\n",
       " 'mortgage': 49816,\n",
       " 'guides': 35310,\n",
       " 'both': 10580,\n",
       " 'existing': 29463,\n",
       " 'purchasing': 63430,\n",
       " 'maintaining': 45657,\n",
       " 'home': 36667,\n",
       " 'their': 80841,\n",
       " 'dreams': 24555,\n",
       " 'goal': 34379,\n",
       " 'build': 11299,\n",
       " 'strong': 76720,\n",
       " 'responsible': 67846,\n",
       " 'lending': 43972,\n",
       " 'borrowing': 10558,\n",
       " 'practices': 59669,\n",
       " 'works': 89410,\n",
       " 'risk': 68583,\n",
       " 'partners': 55625,\n",
       " 'offer': 52537,\n",
       " 'best': 9677,\n",
       " 'available': 8141,\n",
       " 'positive': 59306,\n",
       " 'working': 89295,\n",
       " 'offering': 52559,\n",
       " 'outstanding': 54787,\n",
       " 'customers': 19288,\n",
       " 'answering': 5424,\n",
       " 'inquiries': 39513,\n",
       " 'investigating': 40629,\n",
       " 'correct': 18068,\n",
       " 'any': 5476,\n",
       " 'necessary': 50725,\n",
       " 'errors': 28294,\n",
       " 'regarding': 65288,\n",
       " 'mortgages': 49817,\n",
       " 'performing': 56582,\n",
       " 'collection': 15337,\n",
       " 'activity': 3096,\n",
       " 'past': 55814,\n",
       " 'due': 24815,\n",
       " 'loans': 44845,\n",
       " 'using': 86248,\n",
       " 'procedures': 60909,\n",
       " 'professional': 61800,\n",
       " 'helpful': 36140,\n",
       " 'form': 32505,\n",
       " 'or': 53888,\n",
       " 'financial': 31629,\n",
       " 'background': 8451,\n",
       " 'definite': 20722,\n",
       " 'plus': 58447,\n",
       " 'functions': 33291,\n",
       " 'follows': 32284,\n",
       " 'answer': 5420,\n",
       " 'routine': 69130,\n",
       " 'questions': 64023,\n",
       " 'variety': 86652,\n",
       " 'issues': 41005,\n",
       " 'limited': 44506,\n",
       " 'escrow': 28360,\n",
       " 'balance': 8629,\n",
       " 'payment': 56047,\n",
       " 'interest': 40193,\n",
       " 'rate': 64453,\n",
       " 'changes': 13487,\n",
       " 'missing': 49052,\n",
       " 'address': 3236,\n",
       " 'tax': 79113,\n",
       " 'reporting': 66059,\n",
       " 'information': 39029,\n",
       " 'requests': 66412,\n",
       " 'payoff': 56079,\n",
       " 'others': 54488,\n",
       " 'make': 45733,\n",
       " 'outbound': 54628,\n",
       " 'calls': 11942,\n",
       " 'board': 10217,\n",
       " 'utilizing': 86348,\n",
       " 'scripts': 70643,\n",
       " 'excellent': 29201,\n",
       " 'collections': 15343,\n",
       " 'skillshandle': 73153,\n",
       " 'inbound': 38320,\n",
       " 'proactively': 60754,\n",
       " 'collaborate': 15226,\n",
       " 'delinquent': 20904,\n",
       " '29dpd': 931,\n",
       " 'third': 81117,\n",
       " 'parties': 55588,\n",
       " 'attorneys': 7758,\n",
       " 'government': 34605,\n",
       " 'programs': 62185,\n",
       " 'gse': 35175,\n",
       " 'loan': 44840,\n",
       " 'servicing': 71729,\n",
       " 'particularly': 55579,\n",
       " 'fannie': 30894,\n",
       " 'mae': 45509,\n",
       " 'adhere': 3274,\n",
       " 'stated': 75983,\n",
       " 'timelines': 81458,\n",
       " 'regulatory': 65438,\n",
       " 'document': 23987,\n",
       " 'contact': 17360,\n",
       " 'accordance': 2392,\n",
       " 'established': 28486,\n",
       " 'complete': 16350,\n",
       " 'root': 69036,\n",
       " 'cause': 12913,\n",
       " 'analysis': 4839,\n",
       " 'during': 24870,\n",
       " 'phone': 57092,\n",
       " 'ability': 2096,\n",
       " 'pay': 55990,\n",
       " 'situation': 72766,\n",
       " 'analytical': 4997,\n",
       " 'critical': 18712,\n",
       " 'thinking': 81074,\n",
       " 'needed': 50849,\n",
       " 'dissect': 23718,\n",
       " 'resolve': 67264,\n",
       " 'complex': 16398,\n",
       " 'related': 65534,\n",
       " 'clear': 14329,\n",
       " 'concise': 16746,\n",
       " 'that': 80792,\n",
       " 'understandability': 83763,\n",
       " 'understand': 83762,\n",
       " 'difficult': 23105,\n",
       " 'sensitive': 71214,\n",
       " 'tactfullyability': 78642,\n",
       " 'handle': 35581,\n",
       " 'defuse': 20734,\n",
       " 'escalate': 28335,\n",
       " 'tactful': 78640,\n",
       " 'mannermeet': 46583,\n",
       " 'call': 11916,\n",
       " 'center': 13069,\n",
       " 'performance': 56445,\n",
       " 'metrics': 48513,\n",
       " 'out': 54615,\n",
       " 'his': 36459,\n",
       " 'her': 36198,\n",
       " 'lead': 43540,\n",
       " 'partner': 55615,\n",
       " 'leadership': 43571,\n",
       " 'achieve': 2774,\n",
       " 'objectives': 52220,\n",
       " 'goalsmust': 34451,\n",
       " 'accept': 2275,\n",
       " 'coaching': 14947,\n",
       " 'feedback': 31165,\n",
       " 'use': 86096,\n",
       " 'it': 41174,\n",
       " 'improve': 38192,\n",
       " 'delivery': 21003,\n",
       " 'provided': 63082,\n",
       " 'recommendations': 64802,\n",
       " 'asset': 7131,\n",
       " 'specialists': 74788,\n",
       " 'simplify': 72546,\n",
       " 'knowledge': 42639,\n",
       " 'computers': 16589,\n",
       " 'microsoft': 48688,\n",
       " 'word': 89077,\n",
       " 'access': 2291,\n",
       " 'excel': 29136,\n",
       " 'powerpoint': 59562,\n",
       " 'outlook': 54706,\n",
       " 'lotus': 45157,\n",
       " 'notes': 51845,\n",
       " 'demonstrated': 21152,\n",
       " 'learn': 43716,\n",
       " 'proficiently': 61902,\n",
       " 'utilize': 86343,\n",
       " 'proprietary': 62873,\n",
       " 'applicationsminimum': 5901,\n",
       " 'qualificationshigh': 63744,\n",
       " 'school': 70399,\n",
       " 'diploma': 23209,\n",
       " 'gedminimum': 33813,\n",
       " 'months': 49636,\n",
       " 'experienceminimum': 29960,\n",
       " 'experiencepreferred': 30032,\n",
       " 'qualificationscollections': 63723,\n",
       " 'experiencebilingual': 29703,\n",
       " 'spanish': 74671,\n",
       " 'preferred': 59951,\n",
       " 'required': 66469,\n",
       " 'special': 74765,\n",
       " 'requirementswilling': 67045,\n",
       " 'off': 52504,\n",
       " 'shift': 72107,\n",
       " 'overtime': 54891,\n",
       " 'holidays': 36585,\n",
       " 'weekends': 88333,\n",
       " 'us': 86018,\n",
       " 'nc': 50655,\n",
       " 'raleigh': 64365,\n",
       " 'we': 88057,\n",
       " 'help': 36127,\n",
       " 'teachers': 79188,\n",
       " 'get': 34046,\n",
       " 'safe': 69423,\n",
       " 'secure': 70924,\n",
       " 'jobs': 41802,\n",
       " 'abroad': 2179,\n",
       " 'industry': 38805,\n",
       " 'plusability': 58456,\n",
       " 'tasks': 78980,\n",
       " 'deadlines': 20294,\n",
       " 'attention': 7606,\n",
       " 'detailsstrong': 22231,\n",
       " 'skillsgood': 73150,\n",
       " 'problem': 60791,\n",
       " 'solving': 74384,\n",
       " 'data': 19795,\n",
       " 'entry': 27428,\n",
       " 'effective': 25485,\n",
       " 'verbal': 86871,\n",
       " 'written': 89680,\n",
       " 'communications': 15705,\n",
       " 'skillsability': 72903,\n",
       " 'minimal': 48927,\n",
       " 'supervision': 77533,\n",
       " 'pressure': 60406,\n",
       " 'etiquetteability': 28741,\n",
       " 'operate': 53319,\n",
       " 'office': 52620,\n",
       " 'photocopier': 57297,\n",
       " 'fax': 31021,\n",
       " 'etc': 28553,\n",
       " 'skill': 72872,\n",
       " 'type': 83399,\n",
       " '30': 985,\n",
       " 'words': 89114,\n",
       " 'per': 56392,\n",
       " 'minute': 48992,\n",
       " 'high': 36333,\n",
       " 'equivalent': 28149,\n",
       " 'services': 71509,\n",
       " 'specialist': 74776,\n",
       " 'early': 25071,\n",
       " 'stage': 75562,\n",
       " 'centra': 13098,\n",
       " 'construction': 17253,\n",
       " 'group': 34969,\n",
       " 'employee': 26485,\n",
       " 'owned': 54973,\n",
       " 'seeking': 70996,\n",
       " 'player': 58267,\n",
       " 'interested': 40197,\n",
       " 'moving': 49981,\n",
       " 'challenging': 13432,\n",
       " 'rewarding': 68368,\n",
       " 'career': 12555,\n",
       " 'accounting': 2501,\n",
       " 'finance': 31595,\n",
       " 'intermediate': 40278,\n",
       " 'position': 59172,\n",
       " 'include': 38395,\n",
       " 'processing': 61251,\n",
       " 'payable': 55993,\n",
       " 'volume': 87537,\n",
       " 'tight': 81342,\n",
       " 'bi': 9792,\n",
       " 'monthly': 49620,\n",
       " 'cheque': 13868,\n",
       " 'runs': 69316,\n",
       " 'completing': 16370,\n",
       " 'month': 49597,\n",
       " 'end': 26692,\n",
       " 'journals': 41921,\n",
       " 'reports': 66148,\n",
       " 'reconciliations': 64872,\n",
       " 'managing': 46407,\n",
       " 'visa': 87241,\n",
       " 'statements': 75992,\n",
       " 'orders': 53948,\n",
       " 'upon': 84278,\n",
       " 'completion': 16371,\n",
       " 'costing': 18145,\n",
       " 'receivable': 64708,\n",
       " 'dealing': 20422,\n",
       " 'inventory': 40595,\n",
       " 'quarter': 63945,\n",
       " 'counts': 18258,\n",
       " 'ca': 11752,\n",
       " 'bc': 9082,\n",
       " 'langley': 43126,\n",
       " 'great': 34819,\n",
       " 'start': 75863,\n",
       " 'finishwhat': 31700,\n",
       " 'started': 75867,\n",
       " 'small': 73642,\n",
       " 'firm': 31744,\n",
       " '1984': 513,\n",
       " 'grown': 35056,\n",
       " 'become': 9186,\n",
       " 'number': 52020,\n",
       " 'one': 53063,\n",
       " 'window': 88816,\n",
       " 'manufacturer': 46674,\n",
       " 'building': 11309,\n",
       " 'envelope': 27466,\n",
       " 'retrofit': 68169,\n",
       " 'restoration': 67909,\n",
       " 'british': 10987,\n",
       " 'columbia': 15418,\n",
       " 'supplying': 77701,\n",
       " 'installing': 39688,\n",
       " 'windows': 88819,\n",
       " 'doors': 24369,\n",
       " 'siding': 72369,\n",
       " 'throughout': 81236,\n",
       " 'province': 63150,\n",
       " 'never': 51405,\n",
       " 'lost': 45146,\n",
       " 'sight': 72389,\n",
       " 'what': 88589,\n",
       " 'made': 45498,\n",
       " 'different': 23083,\n",
       " 'right': 68527,\n",
       " 'beginning': 9258,\n",
       " 'primary': 60532,\n",
       " 'focus': 32173,\n",
       " 'why': 88687,\n",
       " 'insist': 39623,\n",
       " 'quality': 63846,\n",
       " 'control': 17675,\n",
       " 'approach': 6109,\n",
       " 'keeping': 42321,\n",
       " 'everything': 29030,\n",
       " 'house': 37025,\n",
       " 'manufacturing': 46684,\n",
       " 'distribution': 23773,\n",
       " 'installation': 39671,\n",
       " 'results': 67947,\n",
       " 'consistently': 17183,\n",
       " 'your': 90202,\n",
       " 'worry': 89556,\n",
       " 'free': 32955,\n",
       " 'renovation': 65947,\n",
       " 'finish': 31686,\n",
       " 'beyond': 9768,\n",
       " 'ownedour': 54978,\n",
       " 'employees': 26496,\n",
       " 'owners': 54987,\n",
       " 'which': 88618,\n",
       " 'exceptional': 29237,\n",
       " 'care': 12541,\n",
       " 'pride': 60520,\n",
       " 'organization': 54080,\n",
       " 'treat': 82874,\n",
       " 'if': 37700,\n",
       " 'were': 88514,\n",
       " 'own': 54967,\n",
       " 'long': 45088,\n",
       " 'term': 80403,\n",
       " 'commitment': 15586,\n",
       " 'providing': 63148,\n",
       " 'highest': 36355,\n",
       " 'improving': 38289,\n",
       " 'efficiency': 25577,\n",
       " 'supporting': 77761,\n",
       " 'local': 44866,\n",
       " 'community': 15825,\n",
       " 'charities': 13677,\n",
       " 'advanced': 3528,\n",
       " 'navision': 50641,\n",
       " 'self': 71095,\n",
       " 'starter': 75870,\n",
       " 'independently': 38569,\n",
       " 'speed': 74933,\n",
       " 'accuracy': 2685,\n",
       " 'detail': 22074,\n",
       " 'levels': 44115,\n",
       " 'english': 27048,\n",
       " 'oral': 53898,\n",
       " 'communication': 15655,\n",
       " 'multitask': 50173,\n",
       " 'environmenteducation': 27600,\n",
       " 'post': 59379,\n",
       " 'secondary': 70848,\n",
       " 'education': 25393,\n",
       " 'accountant': 2473,\n",
       " 'play': 58256,\n",
       " 'kids': 42471,\n",
       " 'paid': 55272,\n",
       " 'love': 45169,\n",
       " 'travel': 82785,\n",
       " 'asia': 6998,\n",
       " '500': 1362,\n",
       " 'usd': 86089,\n",
       " '200': 587,\n",
       " 'cost': 18134,\n",
       " 'living': 44788,\n",
       " 'housing': 37057,\n",
       " 'private': 60726,\n",
       " 'furnished': 33454,\n",
       " 'airfare': 4238,\n",
       " 'reimbursedexcellent': 65460,\n",
       " 'student': 76802,\n",
       " 'credit': 18625,\n",
       " 'cardsgabriel': 12530,\n",
       " 'adkins': 3310,\n",
       " 'url_ed9094c60184b8a4975333957f05be37e69d3cdb68decc9dd9a4242733cfd7f7': 85895,\n",
       " 'url_75db76d58f7994c7db24e8998c2fc953ab9a20ea9ac948b217693963f78d2e6b': 85127,\n",
       " '12': 245,\n",
       " 'contract': 17543,\n",
       " 'apply': 5994,\n",
       " 'today': 81752,\n",
       " 'chico': 13907,\n",
       " 'university': 83948,\n",
       " 'tefl': 80179,\n",
       " 'tesol': 80501,\n",
       " 'celta': 13054,\n",
       " 'teaching': 79192,\n",
       " 'necessarycanada': 50733,\n",
       " 'passport': 55805,\n",
       " 'holders': 36557,\n",
       " 'only': 53147,\n",
       " 'technology': 80034,\n",
       " 'teacher': 79184,\n",
       " 'provide': 63079,\n",
       " 'no': 51661,\n",
       " 'check': 13745,\n",
       " 'financing': 31647,\n",
       " 'medium': 47811,\n",
       " 'size': 72817,\n",
       " 'businesses': 11507,\n",
       " 'can': 12191,\n",
       " '90': 1838,\n",
       " 'industries': 38779,\n",
       " 'auto': 8036,\n",
       " 'mechanics': 47645,\n",
       " 'dentists': 21234,\n",
       " 'lawyers': 43456,\n",
       " 'skilled': 72875,\n",
       " 'managers': 46348,\n",
       " 'exciting': 29276,\n",
       " 'designed': 21713,\n",
       " 'entrepreneurial': 27397,\n",
       " 'really': 64633,\n",
       " 'book': 10452,\n",
       " 'along': 4562,\n",
       " 'income': 38467,\n",
       " 'enjoy': 27204,\n",
       " 'flexible': 31961,\n",
       " 'earnings': 25080,\n",
       " 'incentives': 38337,\n",
       " 'corporate': 18048,\n",
       " 'retreats': 68158,\n",
       " 'quick': 64057,\n",
       " 'advancement': 3540,\n",
       " 'ny': 52101,\n",
       " 'white': 88641,\n",
       " 'plains': 57729,\n",
       " 'aggressive': 4090,\n",
       " 'place': 57685,\n",
       " 'coming': 15468,\n",
       " 'much': 50100,\n",
       " 'facilitating': 30687,\n",
       " 'innovative': 39460,\n",
       " 'at': 7474,\n",
       " 'oak': 52160,\n",
       " 'tree': 82895,\n",
       " 'commit': 15584,\n",
       " 'energies': 26767,\n",
       " 'intellect': 40066,\n",
       " 'helping': 36158,\n",
       " 'entrepreneurs': 27400,\n",
       " 'extraordinary': 30571,\n",
       " 'believe': 9346,\n",
       " 'possible': 59337,\n",
       " 'level': 44047,\n",
       " 'delivering': 20991,\n",
       " 'superior': 77511,\n",
       " 'committed': 15606,\n",
       " 'being': 9319,\n",
       " '67': 1563,\n",
       " 'population': 59050,\n",
       " 'having': 35883,\n",
       " 'bad': 8572,\n",
       " 'helped': 36133,\n",
       " 'average': 8214,\n",
       " 'minimum': 48941,\n",
       " 'speaking': 74745,\n",
       " 'writing': 89640,\n",
       " 'negotiation': 51156,\n",
       " 'instil': 39713,\n",
       " 'college': 15360,\n",
       " 'online': 53125,\n",
       " 'training': 82438,\n",
       " 'lucrative': 45277,\n",
       " 'proven': 63072,\n",
       " 'rapid': 64418,\n",
       " 'highly': 36366,\n",
       " 'yearly': 89993,\n",
       " '150': 341,\n",
       " '175': 405,\n",
       " '000': 1,\n",
       " 'straight': 76417,\n",
       " 'commission': 15551,\n",
       " 'compensation': 16183,\n",
       " 'model': 49272,\n",
       " 'yr': 90253,\n",
       " 'beautiful': 9170,\n",
       " 'montessori': 49592,\n",
       " 'searching': 70805,\n",
       " 'wonderful': 89046,\n",
       " 'certified': 13287,\n",
       " 'montessorian': 49593,\n",
       " 'staff': 75465,\n",
       " '2013': 651,\n",
       " '2014': 676,\n",
       " 'year': 89965,\n",
       " 'located': 44892,\n",
       " 'breathtaking': 10880,\n",
       " '10': 143,\n",
       " 'acre': 2878,\n",
       " 'campus': 12179,\n",
       " 'heart': 36043,\n",
       " 'exton': 30552,\n",
       " 'pennsylvania': 56279,\n",
       " 'age': 3966,\n",
       " 'groups': 34994,\n",
       " 'applicant': 5739,\n",
       " 'should': 72273,\n",
       " 'classroom': 14287,\n",
       " 'clean': 14300,\n",
       " 'creative': 18566,\n",
       " 'learning': 43768,\n",
       " 'creates': 18540,\n",
       " 'warm': 87879,\n",
       " 'loving': 45195,\n",
       " 'atmosphere': 7524,\n",
       " 'fostering': 32691,\n",
       " 'curiosity': 19203,\n",
       " 'creativity': 18601,\n",
       " 'independence': 38554,\n",
       " 'resulting': 67945,\n",
       " 'children': 13916,\n",
       " 'becoming': 9188,\n",
       " 'models': 49325,\n",
       " 'peace': 56190,\n",
       " 'succeeding': 77144,\n",
       " 'evolving': 29073,\n",
       " 'willing': 88779,\n",
       " 'intern': 40287,\n",
       " 'childhood': 13914,\n",
       " 'salary': 69494,\n",
       " 'commenced': 15488,\n",
       " 'pa': 55051,\n",
       " 'least': 43839,\n",
       " '21': 766,\n",
       " 'monday': 49471,\n",
       " 'friday': 33049,\n",
       " 'anytime': 5499,\n",
       " '00': 0,\n",
       " 'undergo': 83725,\n",
       " 'physical': 57419,\n",
       " 'tb': 79138,\n",
       " 'test': 80502,\n",
       " 'criminal': 18679,\n",
       " 'child': 13911,\n",
       " 'abuse': 2227,\n",
       " 'clearance': 14330,\n",
       " 'state': 75980,\n",
       " 'cpr': 18443,\n",
       " 'first': 31770,\n",
       " 'aid': 4198,\n",
       " 'certification': 13225,\n",
       " 'obtain': 52363,\n",
       " 'pre': 59847,\n",
       " 'passionate': 55782,\n",
       " 'about': 2146,\n",
       " 'excited': 29271,\n",
       " 'dynamic': 24997,\n",
       " 'part': 55544,\n",
       " 'close': 14723,\n",
       " 'knit': 42610,\n",
       " 'enjoying': 27208,\n",
       " 'lot': 45149,\n",
       " 'freedom': 32965,\n",
       " 'flexibility': 31944,\n",
       " 'yes': 90102,\n",
       " 'these': 80988,\n",
       " 'then': 80937,\n",
       " 'universum': 83979,\n",
       " 'developer': 22339,\n",
       " 'could': 18186,\n",
       " 'next': 51485,\n",
       " 'step': 76155,\n",
       " 'while': 88621,\n",
       " 'been': 9226,\n",
       " 'around': 6805,\n",
       " 'over': 54802,\n",
       " '25': 851,\n",
       " 'across': 2889,\n",
       " '46': 1300,\n",
       " 'countries': 18234,\n",
       " 'culture': 19092,\n",
       " 'up': 84153,\n",
       " 'just': 42165,\n",
       " 'every': 29018,\n",
       " 'challenge': 13381,\n",
       " 'ourselves': 54608,\n",
       " 'push': 63493,\n",
       " 'boundaries': 10615,\n",
       " 'explore': 30398,\n",
       " 'possibilities': 59333,\n",
       " 'innovations': 39445,\n",
       " 'impact': 37966,\n",
       " 'way': 87983,\n",
       " 'shaping': 71990,\n",
       " 'future': 33483,\n",
       " 'employer': 26565,\n",
       " 'branding': 10758,\n",
       " 'consist': 17174,\n",
       " 'generate': 33884,\n",
       " 'value': 86544,\n",
       " 'competencies': 16243,\n",
       " 'sets': 71800,\n",
       " 'typical': 83423,\n",
       " 'filled': 31553,\n",
       " 'conversations': 17798,\n",
       " 'last': 43321,\n",
       " 'laughing': 43364,\n",
       " 'bunch': 11394,\n",
       " 'centric': 13134,\n",
       " 'making': 45773,\n",
       " 'global': 34299,\n",
       " 'surveys': 77912,\n",
       " 'ones': 53087,\n",
       " 'generation': 33890,\n",
       " 'process': 61034,\n",
       " 'toolswrite': 82069,\n",
       " 'code': 15007,\n",
       " 'performs': 56583,\n",
       " 'calculations': 11844,\n",
       " 'transformations': 82666,\n",
       " 'generates': 33888,\n",
       " 'clientsdevelop': 14537,\n",
       " 'tools': 81913,\n",
       " 'drives': 24682,\n",
       " 'perform': 56442,\n",
       " '43': 1268,\n",
       " 'countrieswork': 18243,\n",
       " 'visualisation': 87375,\n",
       " 'se': 70768,\n",
       " 'ab': 1997,\n",
       " 'stockholm': 76266,\n",
       " 'research': 67087,\n",
       " 'developing': 22443,\n",
       " 'stuffthe': 76904,\n",
       " 'science': 70437,\n",
       " 'fundamentals': 33377,\n",
       " 'maybe': 47469,\n",
       " 'don': 24306,\n",
       " 'respect': 67372,\n",
       " 'craftsmanshipbeen': 18487,\n",
       " 'programming': 62115,\n",
       " 'preferably': 59926,\n",
       " 'languages': 43192,\n",
       " 'frameworks': 32828,\n",
       " 'javascript': 41483,\n",
       " 'frontend': 33118,\n",
       " 'backend': 8435,\n",
       " 'vba': 86683,\n",
       " 'urge': 84369,\n",
       " 'date': 20054,\n",
       " 'following': 32275,\n",
       " 'reading': 64588,\n",
       " 'blogs': 10141,\n",
       " 'twitter': 83352,\n",
       " 'feeds': 31212,\n",
       " 'attend': 7588,\n",
       " 'conferences': 16848,\n",
       " 'ups': 84292,\n",
       " 'feel': 31216,\n",
       " 'do': 23936,\n",
       " 'enough': 27223,\n",
       " 'unspecified': 84095,\n",
       " 'engine': 26869,\n",
       " 'markets': 47013,\n",
       " 'spain': 74661,\n",
       " 'latin': 43347,\n",
       " 'america': 4716,\n",
       " 'conception': 16646,\n",
       " 'launch': 43369,\n",
       " ...}"
      ]
     },
     "execution_count": 50,
     "metadata": {},
     "output_type": "execute_result"
    }
   ],
   "source": [
    "tfidf.vocabulary_"
   ]
  },
  {
   "cell_type": "code",
   "execution_count": 51,
   "metadata": {},
   "outputs": [
    {
     "data": {
      "text/plain": [
       "array([4.67396157, 3.44469162, 9.87521722, ..., 9.87521722, 8.95892649,\n",
       "       9.87521722])"
      ]
     },
     "execution_count": 51,
     "metadata": {},
     "output_type": "execute_result"
    }
   ],
   "source": [
    "tfidf.idf_"
   ]
  },
  {
   "cell_type": "markdown",
   "metadata": {},
   "source": [
    "## Apply the naive Bayes Algorithm"
   ]
  },
  {
   "cell_type": "code",
   "execution_count": 52,
   "metadata": {},
   "outputs": [],
   "source": [
    "# Apply the naive Bayes Algorithm\n",
    "# Import BernNB\n",
    "from sklearn.naive_bayes import BernoulliNB\n",
    "# creating an object for BerNB\n",
    "model_BernNB = BernoulliNB()"
   ]
  },
  {
   "cell_type": "code",
   "execution_count": 53,
   "metadata": {},
   "outputs": [
    {
     "data": {
      "text/plain": [
       "BernoulliNB(alpha=1.0, binarize=0.0, class_prior=None, fit_prior=True)"
      ]
     },
     "execution_count": 53,
     "metadata": {},
     "output_type": "execute_result"
    }
   ],
   "source": [
    "# Applying the algorithm to the data\n",
    "# objectName.fit(Input,Output)\n",
    "model_BernNB.fit(x_train_transformed, y_train)"
   ]
  },
  {
   "cell_type": "code",
   "execution_count": 54,
   "metadata": {},
   "outputs": [],
   "source": [
    "y_train_pred = model_BernNB.predict(x_train_transformed)"
   ]
  },
  {
   "cell_type": "code",
   "execution_count": 55,
   "metadata": {},
   "outputs": [
    {
     "data": {
      "text/plain": [
       "array([[13538,    74],\n",
       "       [  480,   212]], dtype=int64)"
      ]
     },
     "execution_count": 55,
     "metadata": {},
     "output_type": "execute_result"
    }
   ],
   "source": [
    "# compare the actual values(y_test) with predicted values(y_test_pred)\n",
    "from sklearn.metrics import confusion_matrix,classification_report\n",
    "confusion_matrix(y_train,y_train_pred)"
   ]
  },
  {
   "cell_type": "code",
   "execution_count": 56,
   "metadata": {},
   "outputs": [
    {
     "name": "stdout",
     "output_type": "stream",
     "text": [
      "              precision    recall  f1-score   support\n",
      "\n",
      "           0       0.97      0.99      0.98     13612\n",
      "           1       0.74      0.31      0.43       692\n",
      "\n",
      "    accuracy                           0.96     14304\n",
      "   macro avg       0.85      0.65      0.71     14304\n",
      "weighted avg       0.95      0.96      0.95     14304\n",
      "\n"
     ]
    }
   ],
   "source": [
    "print(classification_report(y_train,y_train_pred))"
   ]
  },
  {
   "cell_type": "code",
   "execution_count": 57,
   "metadata": {},
   "outputs": [
    {
     "data": {
      "text/plain": [
       "0.9612695749440716"
      ]
     },
     "execution_count": 57,
     "metadata": {},
     "output_type": "execute_result"
    }
   ],
   "source": [
    "from sklearn.metrics import accuracy_score\n",
    "accuracy_score(y_train,y_train_pred)"
   ]
  },
  {
   "cell_type": "code",
   "execution_count": 58,
   "metadata": {},
   "outputs": [
    {
     "data": {
      "text/plain": [
       "0.7412587412587412"
      ]
     },
     "execution_count": 58,
     "metadata": {},
     "output_type": "execute_result"
    }
   ],
   "source": [
    "from sklearn.metrics import  precision_score\n",
    "precision_score(y_train,y_train_pred)"
   ]
  },
  {
   "cell_type": "code",
   "execution_count": 59,
   "metadata": {},
   "outputs": [
    {
     "data": {
      "text/plain": [
       "0.3063583815028902"
      ]
     },
     "execution_count": 59,
     "metadata": {},
     "output_type": "execute_result"
    }
   ],
   "source": [
    "from sklearn.metrics import recall_score\n",
    "recall_score(y_train,y_train_pred)"
   ]
  },
  {
   "cell_type": "code",
   "execution_count": 60,
   "metadata": {},
   "outputs": [
    {
     "data": {
      "text/plain": [
       "BernoulliNB(alpha=1.0, binarize=0.0, class_prior=None, fit_prior=True)"
      ]
     },
     "execution_count": 60,
     "metadata": {},
     "output_type": "execute_result"
    }
   ],
   "source": [
    "# Applying the algorithm to the data\n",
    "# objectName.fit(Input,Output)\n",
    "model_BernNB.fit(x_test_transformed, y_test)"
   ]
  },
  {
   "cell_type": "code",
   "execution_count": 61,
   "metadata": {},
   "outputs": [],
   "source": [
    "y_test_pred = model_BernNB.predict(x_test_transformed)"
   ]
  },
  {
   "cell_type": "code",
   "execution_count": 62,
   "metadata": {},
   "outputs": [
    {
     "data": {
      "text/plain": [
       "array([[3402,    0],\n",
       "       [ 173,    1]], dtype=int64)"
      ]
     },
     "execution_count": 62,
     "metadata": {},
     "output_type": "execute_result"
    }
   ],
   "source": [
    "# compare the actual values(y_test) with predicted values(y_test_pred)\n",
    "from sklearn.metrics import confusion_matrix,classification_report\n",
    "confusion_matrix(y_test,y_test_pred)"
   ]
  },
  {
   "cell_type": "code",
   "execution_count": 63,
   "metadata": {},
   "outputs": [
    {
     "name": "stdout",
     "output_type": "stream",
     "text": [
      "              precision    recall  f1-score   support\n",
      "\n",
      "           0       0.95      1.00      0.98      3402\n",
      "           1       1.00      0.01      0.01       174\n",
      "\n",
      "    accuracy                           0.95      3576\n",
      "   macro avg       0.98      0.50      0.49      3576\n",
      "weighted avg       0.95      0.95      0.93      3576\n",
      "\n"
     ]
    }
   ],
   "source": [
    "print(classification_report(y_test,y_test_pred))"
   ]
  },
  {
   "cell_type": "code",
   "execution_count": 64,
   "metadata": {},
   "outputs": [
    {
     "data": {
      "text/plain": [
       "0.9516219239373602"
      ]
     },
     "execution_count": 64,
     "metadata": {},
     "output_type": "execute_result"
    }
   ],
   "source": [
    "from sklearn.metrics import accuracy_score\n",
    "accu_naive=accuracy_score(y_test,y_test_pred)\n",
    "accu_naive"
   ]
  },
  {
   "cell_type": "code",
   "execution_count": 65,
   "metadata": {},
   "outputs": [
    {
     "data": {
      "text/plain": [
       "1.0"
      ]
     },
     "execution_count": 65,
     "metadata": {},
     "output_type": "execute_result"
    }
   ],
   "source": [
    "from sklearn.metrics import  precision_score\n",
    "prec_naive=precision_score(y_test,y_test_pred)\n",
    "prec_naive"
   ]
  },
  {
   "cell_type": "code",
   "execution_count": 66,
   "metadata": {},
   "outputs": [
    {
     "data": {
      "text/plain": [
       "0.005747126436781609"
      ]
     },
     "execution_count": 66,
     "metadata": {},
     "output_type": "execute_result"
    }
   ],
   "source": [
    "from sklearn.metrics import recall_score\n",
    "recall_score(y_test,y_test_pred)"
   ]
  },
  {
   "cell_type": "markdown",
   "metadata": {},
   "source": [
    "## logistic regression"
   ]
  },
  {
   "cell_type": "code",
   "execution_count": 67,
   "metadata": {},
   "outputs": [],
   "source": [
    "## Import Logistic Regression\n",
    "from sklearn.linear_model import LogisticRegression\n",
    "# creating an object for Logistic Regression\n",
    "Lr=LogisticRegression()"
   ]
  },
  {
   "cell_type": "code",
   "execution_count": 68,
   "metadata": {},
   "outputs": [
    {
     "data": {
      "text/plain": [
       "LogisticRegression(C=1.0, class_weight=None, dual=False, fit_intercept=True,\n",
       "                   intercept_scaling=1, l1_ratio=None, max_iter=100,\n",
       "                   multi_class='auto', n_jobs=None, penalty='l2',\n",
       "                   random_state=None, solver='lbfgs', tol=0.0001, verbose=0,\n",
       "                   warm_start=False)"
      ]
     },
     "execution_count": 68,
     "metadata": {},
     "output_type": "execute_result"
    }
   ],
   "source": [
    "Lr.fit(x_train_transformed, y_train)"
   ]
  },
  {
   "cell_type": "code",
   "execution_count": 69,
   "metadata": {},
   "outputs": [],
   "source": [
    "y_train_pred = Lr.predict(x_train_transformed)"
   ]
  },
  {
   "cell_type": "code",
   "execution_count": 70,
   "metadata": {},
   "outputs": [
    {
     "data": {
      "text/plain": [
       "array([[13611,     1],\n",
       "       [  419,   273]], dtype=int64)"
      ]
     },
     "execution_count": 70,
     "metadata": {},
     "output_type": "execute_result"
    }
   ],
   "source": [
    "# compare the actual values(y_test) with predicted values(y_test_pred)\n",
    "from sklearn.metrics import confusion_matrix,classification_report\n",
    "confusion_matrix(y_train,y_train_pred)"
   ]
  },
  {
   "cell_type": "code",
   "execution_count": 71,
   "metadata": {},
   "outputs": [
    {
     "name": "stdout",
     "output_type": "stream",
     "text": [
      "              precision    recall  f1-score   support\n",
      "\n",
      "           0       0.97      1.00      0.98     13612\n",
      "           1       1.00      0.39      0.57       692\n",
      "\n",
      "    accuracy                           0.97     14304\n",
      "   macro avg       0.98      0.70      0.78     14304\n",
      "weighted avg       0.97      0.97      0.96     14304\n",
      "\n"
     ]
    }
   ],
   "source": [
    "print(classification_report(y_train,y_train_pred))"
   ]
  },
  {
   "cell_type": "code",
   "execution_count": 72,
   "metadata": {},
   "outputs": [
    {
     "data": {
      "text/plain": [
       "0.9706375838926175"
      ]
     },
     "execution_count": 72,
     "metadata": {},
     "output_type": "execute_result"
    }
   ],
   "source": [
    "from sklearn.metrics import accuracy_score\n",
    "accuracy_score(y_train,y_train_pred)"
   ]
  },
  {
   "cell_type": "code",
   "execution_count": 73,
   "metadata": {},
   "outputs": [
    {
     "data": {
      "text/plain": [
       "0.9963503649635036"
      ]
     },
     "execution_count": 73,
     "metadata": {},
     "output_type": "execute_result"
    }
   ],
   "source": [
    "from sklearn.metrics import  precision_score\n",
    "precision_score(y_train,y_train_pred)"
   ]
  },
  {
   "cell_type": "code",
   "execution_count": 74,
   "metadata": {},
   "outputs": [
    {
     "data": {
      "text/plain": [
       "0.3945086705202312"
      ]
     },
     "execution_count": 74,
     "metadata": {},
     "output_type": "execute_result"
    }
   ],
   "source": [
    "from sklearn.metrics import recall_score\n",
    "recall_score(y_train,y_train_pred)"
   ]
  },
  {
   "cell_type": "code",
   "execution_count": 75,
   "metadata": {},
   "outputs": [
    {
     "data": {
      "text/plain": [
       "LogisticRegression(C=1.0, class_weight=None, dual=False, fit_intercept=True,\n",
       "                   intercept_scaling=1, l1_ratio=None, max_iter=100,\n",
       "                   multi_class='auto', n_jobs=None, penalty='l2',\n",
       "                   random_state=None, solver='lbfgs', tol=0.0001, verbose=0,\n",
       "                   warm_start=False)"
      ]
     },
     "execution_count": 75,
     "metadata": {},
     "output_type": "execute_result"
    }
   ],
   "source": [
    "Lr.fit(x_test_transformed, y_test)"
   ]
  },
  {
   "cell_type": "code",
   "execution_count": 76,
   "metadata": {},
   "outputs": [],
   "source": [
    "y_test_pred = Lr.predict(x_test_transformed)"
   ]
  },
  {
   "cell_type": "code",
   "execution_count": 77,
   "metadata": {},
   "outputs": [
    {
     "data": {
      "text/plain": [
       "array([[3402,    0],\n",
       "       [ 148,   26]], dtype=int64)"
      ]
     },
     "execution_count": 77,
     "metadata": {},
     "output_type": "execute_result"
    }
   ],
   "source": [
    "# compare the actual values(y_test) with predicted values(y_test_pred)\n",
    "from sklearn.metrics import confusion_matrix,classification_report\n",
    "confusion_matrix(y_test,y_test_pred)"
   ]
  },
  {
   "cell_type": "code",
   "execution_count": 78,
   "metadata": {},
   "outputs": [
    {
     "name": "stdout",
     "output_type": "stream",
     "text": [
      "              precision    recall  f1-score   support\n",
      "\n",
      "           0       0.96      1.00      0.98      3402\n",
      "           1       1.00      0.15      0.26       174\n",
      "\n",
      "    accuracy                           0.96      3576\n",
      "   macro avg       0.98      0.57      0.62      3576\n",
      "weighted avg       0.96      0.96      0.94      3576\n",
      "\n"
     ]
    }
   ],
   "source": [
    "print(classification_report(y_test,y_test_pred))"
   ]
  },
  {
   "cell_type": "code",
   "execution_count": 79,
   "metadata": {},
   "outputs": [
    {
     "data": {
      "text/plain": [
       "0.9586129753914989"
      ]
     },
     "execution_count": 79,
     "metadata": {},
     "output_type": "execute_result"
    }
   ],
   "source": [
    "from sklearn.metrics import accuracy_score\n",
    "accu_log=accuracy_score(y_test,y_test_pred)\n",
    "accu_log"
   ]
  },
  {
   "cell_type": "code",
   "execution_count": 80,
   "metadata": {},
   "outputs": [
    {
     "data": {
      "text/plain": [
       "1.0"
      ]
     },
     "execution_count": 80,
     "metadata": {},
     "output_type": "execute_result"
    }
   ],
   "source": [
    "from sklearn.metrics import  precision_score\n",
    "prec_log=precision_score(y_test,y_test_pred)\n",
    "prec_log"
   ]
  },
  {
   "cell_type": "code",
   "execution_count": 81,
   "metadata": {},
   "outputs": [
    {
     "data": {
      "text/plain": [
       "0.14942528735632185"
      ]
     },
     "execution_count": 81,
     "metadata": {},
     "output_type": "execute_result"
    }
   ],
   "source": [
    "from sklearn.metrics import recall_score\n",
    "recall_score(y_test,y_test_pred)"
   ]
  },
  {
   "cell_type": "markdown",
   "metadata": {},
   "source": [
    "## comparing the Accuracy scores"
   ]
  },
  {
   "cell_type": "code",
   "execution_count": 82,
   "metadata": {
    "scrolled": true
   },
   "outputs": [
    {
     "data": {
      "image/png": "[encoded data removed]",
      "text/plain": [
       "<Figure size 432x288 with 1 Axes>"
      ]
     },
     "metadata": {
      "needs_background": "light"
     },
     "output_type": "display_data"
    }
   ],
   "source": [
    "accuracy_names=['accu_naive','accu_log']\n",
    "accuracy_values=[95.1,95.8]\n",
    "fig = plt.figure()\n",
    "ax = fig.add_axes([0,0,1,1])\n",
    "ax.bar(accuracy_names,accuracy_values)\n",
    "ax.set_xlabel('Accuracy_scores')\n",
    "ax.set_ylabel('Scores')\n",
    "ax.set_title('Scores of appiled different algorithms')\n",
    "plt.show()"
   ]
  },
  {
   "cell_type": "markdown",
   "metadata": {},
   "source": [
    "## comparing the precison scores"
   ]
  },
  {
   "cell_type": "code",
   "execution_count": 83,
   "metadata": {},
   "outputs": [
    {
     "data": {
      "image/png": "[encoded data removed]",
      "text/plain": [
       "<Figure size 432x288 with 1 Axes>"
      ]
     },
     "metadata": {
      "needs_background": "light"
     },
     "output_type": "display_data"
    }
   ],
   "source": [
    "precision_names=['prec_naive','prec_log']\n",
    "precision_values=[1.00,1.00]\n",
    "fig = plt.figure()\n",
    "ax = fig.add_axes([0,0,1,1])\n",
    "ax.bar(accuracy_names,accuracy_values)\n",
    "ax.set_xlabel('precision_scores')\n",
    "ax.set_ylabel('Scores')\n",
    "ax.set_title('Scores of appiled different algorithms')\n",
    "plt.show()"
   ]
  },
  {
   "cell_type": "markdown",
   "metadata": {},
   "source": [
    "## Grid search cv\n",
    "Applying Grid search cv for logistic regression because it have the the highest accuracy"
   ]
  },
  {
   "cell_type": "code",
   "execution_count": 84,
   "metadata": {},
   "outputs": [],
   "source": [
    "from sklearn.model_selection import GridSearchCV\n",
    "dual=[False]\n",
    "max_iter=[100]\n",
    "param_grid = dict(dual=dual,max_iter=max_iter)"
   ]
  },
  {
   "cell_type": "code",
   "execution_count": 85,
   "metadata": {},
   "outputs": [
    {
     "name": "stdout",
     "output_type": "stream",
     "text": [
      "Best: 0.964346 using {'dual': False, 'max_iter': 100}\n",
      "Execution time: 5.703684091567993 ms\n"
     ]
    }
   ],
   "source": [
    "import time\n",
    "\n",
    "Lr = LogisticRegression(dual=False)\n",
    "grid = GridSearchCV(estimator=Lr, param_grid=param_grid, cv = 3, n_jobs=-1)\n",
    "\n",
    "start_time = time.time()\n",
    "grid_result = grid.fit(x_train_transformed, y_train)\n",
    "# Summarize results\n",
    "print(\"Best: %f using %s\" % (grid_result.best_score_, grid_result.best_params_))\n",
    "print(\"Execution time: \" + str((time.time() - start_time)) + ' ms')"
   ]
  },
  {
   "cell_type": "code",
   "execution_count": 86,
   "metadata": {},
   "outputs": [
    {
     "data": {
      "text/plain": [
       "{'dual': False, 'max_iter': 100}"
      ]
     },
     "execution_count": 86,
     "metadata": {},
     "output_type": "execute_result"
    }
   ],
   "source": [
    "grid_result.best_params_"
   ]
  },
  {
   "cell_type": "code",
   "execution_count": 87,
   "metadata": {},
   "outputs": [
    {
     "data": {
      "text/plain": [
       "LogisticRegression(C=1.0, class_weight=None, dual=False, fit_intercept=True,\n",
       "                   intercept_scaling=1, l1_ratio=None, max_iter=100,\n",
       "                   multi_class='auto', n_jobs=None, penalty='l2',\n",
       "                   random_state=None, solver='lbfgs', tol=0.0001, verbose=0,\n",
       "                   warm_start=False)"
      ]
     },
     "execution_count": 87,
     "metadata": {},
     "output_type": "execute_result"
    }
   ],
   "source": [
    "Lr = LogisticRegression(dual = False, max_iter = 100)\n",
    "\n",
    "# We need to fit the model to the data\n",
    "Lr.fit(x_train_transformed, y_train)"
   ]
  },
  {
   "cell_type": "code",
   "execution_count": 88,
   "metadata": {},
   "outputs": [
    {
     "name": "stdout",
     "output_type": "stream",
     "text": [
      "              precision    recall  f1-score   support\n",
      "\n",
      "           0       0.97      1.00      0.98      3402\n",
      "           1       0.99      0.40      0.57       174\n",
      "\n",
      "    accuracy                           0.97      3576\n",
      "   macro avg       0.98      0.70      0.78      3576\n",
      "weighted avg       0.97      0.97      0.96      3576\n",
      "\n"
     ]
    }
   ],
   "source": [
    "# Prediction on test data\n",
    "pred_test = Lr.predict(x_test_transformed)\n",
    "\n",
    "#Classification Report of actual values and predicted value(GridSearch)\n",
    "print(classification_report(y_test, pred_test))"
   ]
  },
  {
   "cell_type": "code",
   "execution_count": 89,
   "metadata": {},
   "outputs": [
    {
     "data": {
      "text/plain": [
       "100.0"
      ]
     },
     "execution_count": 89,
     "metadata": {},
     "output_type": "execute_result"
    }
   ],
   "source": [
    "Lr_score = (Lr.score(x_test_transformed, pred_test))*100\n",
    "Lr_score"
   ]
  },
  {
   "cell_type": "code",
   "execution_count": 90,
   "metadata": {},
   "outputs": [],
   "source": [
    "param_grid = {'alpha': [0.01, 0.1, 0.5, 1.0, 10.0],}"
   ]
  },
  {
   "cell_type": "code",
   "execution_count": 91,
   "metadata": {},
   "outputs": [
    {
     "name": "stdout",
     "output_type": "stream",
     "text": [
      "Fitting 5 folds for each of 5 candidates, totalling 25 fits\n"
     ]
    },
    {
     "name": "stderr",
     "output_type": "stream",
     "text": [
      "[Parallel(n_jobs=-1)]: Using backend LokyBackend with 8 concurrent workers.\n",
      "[Parallel(n_jobs=-1)]: Done   2 tasks      | elapsed:    0.7s\n",
      "[Parallel(n_jobs=-1)]: Done  16 out of  25 | elapsed:    2.5s remaining:    1.3s\n",
      "[Parallel(n_jobs=-1)]: Done  22 out of  25 | elapsed:    3.3s remaining:    0.4s\n",
      "[Parallel(n_jobs=-1)]: Done  25 out of  25 | elapsed:    3.6s finished\n"
     ]
    },
    {
     "data": {
      "text/plain": [
       "GridSearchCV(cv=5, error_score=nan,\n",
       "             estimator=BernoulliNB(alpha=1.0, binarize=0.0, class_prior=None,\n",
       "                                   fit_prior=True),\n",
       "             iid='deprecated', n_jobs=-1,\n",
       "             param_grid={'alpha': [0.01, 0.1, 0.5, 1.0, 10.0]},\n",
       "             pre_dispatch='2*n_jobs', refit=True, return_train_score=False,\n",
       "             scoring=None, verbose=5)"
      ]
     },
     "execution_count": 91,
     "metadata": {},
     "output_type": "execute_result"
    }
   ],
   "source": [
    "#Import the GridSearchCV \n",
    "from sklearn.model_selection import GridSearchCV\n",
    "\n",
    "# initialization of GridSearch with the parameters- ModelName and the dictionary of parameters\n",
    "model_BernNB = BernoulliNB()\n",
    "grid_search = GridSearchCV(BernoulliNB(), param_grid=param_grid, n_jobs=-1, cv=5, verbose=5)\n",
    "\n",
    "# applying gridsearch onto dataset\n",
    "grid_search.fit(x_train_transformed, y_train)"
   ]
  },
  {
   "cell_type": "code",
   "execution_count": 92,
   "metadata": {},
   "outputs": [
    {
     "data": {
      "text/plain": [
       "{'dual': False, 'max_iter': 100}"
      ]
     },
     "execution_count": 92,
     "metadata": {},
     "output_type": "execute_result"
    }
   ],
   "source": [
    "grid_result.best_params_"
   ]
  },
  {
   "cell_type": "code",
   "execution_count": 93,
   "metadata": {},
   "outputs": [
    {
     "data": {
      "text/plain": [
       "BernoulliNB(alpha=1.0, binarize=0.0, class_prior=None, fit_prior=True)"
      ]
     },
     "execution_count": 93,
     "metadata": {},
     "output_type": "execute_result"
    }
   ],
   "source": [
    "model_BernNB = BernoulliNB()\n",
    "\n",
    "# We need to fit the model to the data\n",
    "model_BernNB.fit(x_train_transformed, y_train)"
   ]
  },
  {
   "cell_type": "code",
   "execution_count": 94,
   "metadata": {},
   "outputs": [],
   "source": [
    "pred_test = model_BernNB.predict(x_test_transformed)"
   ]
  },
  {
   "cell_type": "code",
   "execution_count": 95,
   "metadata": {},
   "outputs": [
    {
     "name": "stdout",
     "output_type": "stream",
     "text": [
      "              precision    recall  f1-score   support\n",
      "\n",
      "           0       0.96      1.00      0.98      3402\n",
      "           1       0.85      0.22      0.35       174\n",
      "\n",
      "    accuracy                           0.96      3576\n",
      "   macro avg       0.90      0.61      0.67      3576\n",
      "weighted avg       0.96      0.96      0.95      3576\n",
      "\n"
     ]
    }
   ],
   "source": [
    "print(classification_report(y_test, pred_test))"
   ]
  },
  {
   "cell_type": "code",
   "execution_count": 97,
   "metadata": {},
   "outputs": [
    {
     "data": {
      "text/plain": [
       "100.0"
      ]
     },
     "execution_count": 97,
     "metadata": {},
     "output_type": "execute_result"
    }
   ],
   "source": [
    "naive_score = (model_BernNB.score(x_test_transformed, pred_test))*100\n",
    "naive_score"
   ]
  },
  {
   "cell_type": "code",
   "execution_count": 98,
   "metadata": {},
   "outputs": [
    {
     "data": {
      "text/plain": [
       "Text(0, 0.5, 'Accuracy')"
      ]
     },
     "execution_count": 98,
     "metadata": {},
     "output_type": "execute_result"
    },
    {
     "data": {
      "image/png": "[encoded data removed]",
      "text/plain": [
       "<Figure size 576x432 with 1 Axes>"
      ]
     },
     "metadata": {
      "needs_background": "light"
     },
     "output_type": "display_data"
    }
   ],
   "source": [
    "Methods = ['LogisticRegression', 'NaiveBayes']\n",
    "Scores = np.array([Lr_score,naive_score])\n",
    "\n",
    "fig, ax = plt.subplots(figsize=(8,6))\n",
    "sns.barplot(Methods, Scores)\n",
    "plt.title('Algorithm Prediction Accuracies')\n",
    "plt.ylabel('Accuracy')"
   ]
  },
  {
   "cell_type": "code",
   "execution_count": null,
   "metadata": {},
   "outputs": [],
   "source": []
  }
 ],
 "metadata": {
  "kernelspec": {
   "display_name": "Python 3",
   "language": "python",
   "name": "python3"
  },
  "language_info": {
   "codemirror_mode": {
    "name": "ipython",
    "version": 3
   },
   "file_extension": ".py",
   "mimetype": "text/x-python",
   "name": "python",
   "nbconvert_exporter": "python",
   "pygments_lexer": "ipython3",
   "version": "3.7.4"
  }
 },
 "nbformat": 4,
 "nbformat_minor": 4
}
